{
 "cells": [
  {
   "cell_type": "code",
   "execution_count": 1,
   "metadata": {},
   "outputs": [],
   "source": [
    "import findspark\n",
    "findspark.init()\n",
    "from pyspark.sql import SparkSession\n",
    "spark = SparkSession.builder.appName(\"lab-ml\").getOrCreate()\n"
   ]
  },
  {
   "cell_type": "code",
   "execution_count": 2,
   "metadata": {},
   "outputs": [
    {
     "data": {
      "text/html": [
       "\n",
       "            <div>\n",
       "                <p><b>SparkSession - in-memory</b></p>\n",
       "                \n",
       "        <div>\n",
       "            <p><b>SparkContext</b></p>\n",
       "\n",
       "            <p><a href=\"http://ip-172-31-75-130.ec2.internal:4040\">Spark UI</a></p>\n",
       "\n",
       "            <dl>\n",
       "              <dt>Version</dt>\n",
       "                <dd><code>v2.4.4</code></dd>\n",
       "              <dt>Master</dt>\n",
       "                <dd><code>yarn</code></dd>\n",
       "              <dt>AppName</dt>\n",
       "                <dd><code>lab-ml</code></dd>\n",
       "            </dl>\n",
       "        </div>\n",
       "        \n",
       "            </div>\n",
       "        "
      ],
      "text/plain": [
       "<pyspark.sql.session.SparkSession at 0x7fbb901675d0>"
      ]
     },
     "execution_count": 2,
     "metadata": {},
     "output_type": "execute_result"
    }
   ],
   "source": [
    "spark"
   ]
  },
  {
   "cell_type": "code",
   "execution_count": 3,
   "metadata": {},
   "outputs": [],
   "source": [
    "#df = spark.read.parquet(\"s3://aws-logs-780494741284-us-east-1/dataset/project_graph_data\")"
   ]
  },
  {
   "cell_type": "code",
   "execution_count": 4,
   "metadata": {},
   "outputs": [],
   "source": [
    "#df.take(10)"
   ]
  },
  {
   "cell_type": "code",
   "execution_count": 5,
   "metadata": {},
   "outputs": [],
   "source": [
    "#df.count()"
   ]
  },
  {
   "cell_type": "code",
   "execution_count": 6,
   "metadata": {},
   "outputs": [],
   "source": [
    "#df.distinct().count()"
   ]
  },
  {
   "cell_type": "code",
   "execution_count": 7,
   "metadata": {},
   "outputs": [],
   "source": [
    "df_node = spark.read.parquet(\"s3://aws-logs-780494741284-us-east-1/dataset/graph_node_domain\")"
   ]
  },
  {
   "cell_type": "code",
   "execution_count": 8,
   "metadata": {},
   "outputs": [
    {
     "data": {
      "text/plain": [
       "[Row(urls='5.ssbet180.cn', label=1169),\n",
       " Row(urls='WWW.000747.COM', label=1152),\n",
       " Row(urls='WWW.000747.COM', label=1152),\n",
       " Row(urls='WWW.013821.COM', label=1125),\n",
       " Row(urls='WWW.013821.COM', label=1125),\n",
       " Row(urls='WWW.013821.COM', label=1125),\n",
       " Row(urls='WWW.126357.COM', label=1160),\n",
       " Row(urls='WWW.126357.COM', label=1160),\n",
       " Row(urls='WWW.126357.COM', label=1160),\n",
       " Row(urls='WWW.1418000.COM', label=1150)]"
      ]
     },
     "execution_count": 8,
     "metadata": {},
     "output_type": "execute_result"
    }
   ],
   "source": [
    "df_node.take(10)"
   ]
  },
  {
   "cell_type": "code",
   "execution_count": 9,
   "metadata": {},
   "outputs": [
    {
     "data": {
      "text/plain": [
       "54947"
      ]
     },
     "execution_count": 9,
     "metadata": {},
     "output_type": "execute_result"
    }
   ],
   "source": [
    "df_node.count()"
   ]
  },
  {
   "cell_type": "code",
   "execution_count": 10,
   "metadata": {},
   "outputs": [
    {
     "data": {
      "text/plain": [
       "8049"
      ]
     },
     "execution_count": 10,
     "metadata": {},
     "output_type": "execute_result"
    }
   ],
   "source": [
    "df_node.distinct().count()"
   ]
  },
  {
   "cell_type": "code",
   "execution_count": 11,
   "metadata": {},
   "outputs": [],
   "source": [
    "df_edge = spark.read.parquet(\"s3://aws-logs-780494741284-us-east-1/dataset/graph_edges_domain\")"
   ]
  },
  {
   "cell_type": "code",
   "execution_count": 12,
   "metadata": {},
   "outputs": [
    {
     "data": {
      "text/plain": [
       "[Row(target='7249', source='2213'),\n",
       " Row(target='7295', source='2213'),\n",
       " Row(target='3675', source='2213'),\n",
       " Row(target='7614', source='2213'),\n",
       " Row(target='3831', source='2213'),\n",
       " Row(target='5183', source='2213'),\n",
       " Row(target='5151', source='2213'),\n",
       " Row(target='1002', source='2213'),\n",
       " Row(target='2810', source='2213'),\n",
       " Row(target='6360', source='2213')]"
      ]
     },
     "execution_count": 12,
     "metadata": {},
     "output_type": "execute_result"
    }
   ],
   "source": [
    "df_edge.take(10)"
   ]
  },
  {
   "cell_type": "code",
   "execution_count": 13,
   "metadata": {},
   "outputs": [
    {
     "data": {
      "text/plain": [
       "23381"
      ]
     },
     "execution_count": 13,
     "metadata": {},
     "output_type": "execute_result"
    }
   ],
   "source": [
    "df_edge.count()"
   ]
  },
  {
   "cell_type": "code",
   "execution_count": 14,
   "metadata": {},
   "outputs": [
    {
     "data": {
      "text/plain": [
       "19271"
      ]
     },
     "execution_count": 14,
     "metadata": {},
     "output_type": "execute_result"
    }
   ],
   "source": [
    "df_edge.distinct().count()"
   ]
  },
  {
   "cell_type": "code",
   "execution_count": 15,
   "metadata": {},
   "outputs": [],
   "source": [
    "#keep dinstict edges\n",
    "df_edge=df_edge.distinct()"
   ]
  },
  {
   "cell_type": "code",
   "execution_count": 16,
   "metadata": {},
   "outputs": [
    {
     "data": {
      "text/plain": [
       "19271"
      ]
     },
     "execution_count": 16,
     "metadata": {},
     "output_type": "execute_result"
    }
   ],
   "source": [
    "df_edge.count()"
   ]
  },
  {
   "cell_type": "code",
   "execution_count": 17,
   "metadata": {},
   "outputs": [],
   "source": [
    "#edge_source_dinst=df_edge.select(\"source\").distinct().show()"
   ]
  },
  {
   "cell_type": "code",
   "execution_count": 18,
   "metadata": {},
   "outputs": [],
   "source": [
    "#number of distinct source node in dataset\n",
    "edge_source_num=df_edge.select(\"source\").distinct().count()"
   ]
  },
  {
   "cell_type": "code",
   "execution_count": 19,
   "metadata": {},
   "outputs": [
    {
     "data": {
      "text/plain": [
       "17"
      ]
     },
     "execution_count": 19,
     "metadata": {},
     "output_type": "execute_result"
    }
   ],
   "source": [
    "edge_source_num"
   ]
  },
  {
   "cell_type": "code",
   "execution_count": 20,
   "metadata": {},
   "outputs": [],
   "source": [
    "#source_dinst=df.select(\"source\").distinct().show()"
   ]
  },
  {
   "cell_type": "code",
   "execution_count": 21,
   "metadata": {},
   "outputs": [],
   "source": [
    "#number of dinstinct urls in dataset\n",
    "nodes_num=df_node.select(\"urls\").distinct().count()"
   ]
  },
  {
   "cell_type": "code",
   "execution_count": 22,
   "metadata": {},
   "outputs": [
    {
     "data": {
      "text/plain": [
       "8049"
      ]
     },
     "execution_count": 22,
     "metadata": {},
     "output_type": "execute_result"
    }
   ],
   "source": [
    "nodes_num"
   ]
  },
  {
   "cell_type": "code",
   "execution_count": 23,
   "metadata": {},
   "outputs": [],
   "source": [
    "#inital value for each distinct url\n",
    "initial_value=1/nodes_num"
   ]
  },
  {
   "cell_type": "code",
   "execution_count": 24,
   "metadata": {},
   "outputs": [
    {
     "data": {
      "text/plain": [
       "0.00012423903590508137"
      ]
     },
     "execution_count": 24,
     "metadata": {},
     "output_type": "execute_result"
    }
   ],
   "source": [
    "initial_value"
   ]
  },
  {
   "cell_type": "code",
   "execution_count": 25,
   "metadata": {},
   "outputs": [],
   "source": [
    "from pyspark.sql.functions import *"
   ]
  },
  {
   "cell_type": "code",
   "execution_count": 26,
   "metadata": {},
   "outputs": [],
   "source": [
    "#add initial value column\n",
    "df_edge = df_edge.withColumn(\"initialValue\", lit(initial_value))"
   ]
  },
  {
   "cell_type": "code",
   "execution_count": 27,
   "metadata": {},
   "outputs": [
    {
     "data": {
      "text/plain": [
       "[Row(target='6984', source='2213', initialValue=0.00012423903590508137),\n",
       " Row(target='6210', source='6537', initialValue=0.00012423903590508137),\n",
       " Row(target='6506', source='401', initialValue=0.00012423903590508137),\n",
       " Row(target='2116', source='1514', initialValue=0.00012423903590508137),\n",
       " Row(target='42', source='401', initialValue=0.00012423903590508137),\n",
       " Row(target='4487', source='7565', initialValue=0.00012423903590508137),\n",
       " Row(target='7020', source='7565', initialValue=0.00012423903590508137),\n",
       " Row(target='4569', source='7565', initialValue=0.00012423903590508137),\n",
       " Row(target='5626', source='2213', initialValue=0.00012423903590508137),\n",
       " Row(target='5103', source='7565', initialValue=0.00012423903590508137)]"
      ]
     },
     "execution_count": 27,
     "metadata": {},
     "output_type": "execute_result"
    }
   ],
   "source": [
    "df_edge.take(10)"
   ]
  },
  {
   "cell_type": "code",
   "execution_count": 28,
   "metadata": {},
   "outputs": [],
   "source": [
    "#sort dataset by source id\n",
    "df_edge=df_edge.sort(col(\"source\"))"
   ]
  },
  {
   "cell_type": "code",
   "execution_count": 29,
   "metadata": {},
   "outputs": [
    {
     "data": {
      "text/plain": [
       "[Row(target='6780', source='1241', initialValue=0.00012423903590508137),\n",
       " Row(target='4595', source='1241', initialValue=0.00012423903590508137),\n",
       " Row(target='7512', source='1241', initialValue=0.00012423903590508137),\n",
       " Row(target='6873', source='1514', initialValue=0.00012423903590508137),\n",
       " Row(target='5471', source='1514', initialValue=0.00012423903590508137),\n",
       " Row(target='195', source='1514', initialValue=0.00012423903590508137),\n",
       " Row(target='5772', source='1514', initialValue=0.00012423903590508137),\n",
       " Row(target='7443', source='1514', initialValue=0.00012423903590508137),\n",
       " Row(target='4195', source='1514', initialValue=0.00012423903590508137),\n",
       " Row(target='8015', source='1514', initialValue=0.00012423903590508137)]"
      ]
     },
     "execution_count": 29,
     "metadata": {},
     "output_type": "execute_result"
    }
   ],
   "source": [
    "df_edge.take(10)"
   ]
  },
  {
   "cell_type": "code",
   "execution_count": 51,
   "metadata": {},
   "outputs": [],
   "source": [
    "#mapping page rank weight for each edge\n",
    "def mapper(df_edge):\n",
    "    df_edge_source=df_edge.select(\"source\").distinct().rdd.flatMap(lambda x: x).collect()\n",
    "    df_edge=df_edge.withColumn(\"pageRank\",lit(0))\n",
    "    for source in df_edge_source:\n",
    "        #count number of edges under same source node\n",
    "        count=df_edge.filter((df_edge.source==source)).count()\n",
    "        #calculate page rank weight under the same source node\n",
    "        df_edge = df_edge.withColumn(\"pageRank\", when((df_edge.source==source),initial_value/count).otherwise(df_edge.pageRank))\n",
    "    return df_edge"
   ]
  },
  {
   "cell_type": "code",
   "execution_count": 52,
   "metadata": {},
   "outputs": [],
   "source": [
    "df_mapper=mapper(df_edge)"
   ]
  },
  {
   "cell_type": "code",
   "execution_count": 56,
   "metadata": {},
   "outputs": [
    {
     "name": "stdout",
     "output_type": "stream",
     "text": [
      "+------+------+--------------------+--------------------+\n",
      "|target|source|        initialValue|            pageRank|\n",
      "+------+------+--------------------+--------------------+\n",
      "|  3102|   401|1.242390359050813...|3.300718275905456...|\n",
      "|  7244|   401|1.242390359050813...|3.300718275905456...|\n",
      "|  3676|   401|1.242390359050813...|3.300718275905456...|\n",
      "|  6501|   401|1.242390359050813...|3.300718275905456...|\n",
      "|    37|   401|1.242390359050813...|3.300718275905456...|\n",
      "|  3574|   401|1.242390359050813...|3.300718275905456...|\n",
      "|   492|   401|1.242390359050813...|3.300718275905456...|\n",
      "|  6978|   401|1.242390359050813...|3.300718275905456...|\n",
      "|  5956|   401|1.242390359050813...|3.300718275905456...|\n",
      "|  2168|   401|1.242390359050813...|3.300718275905456...|\n",
      "|   477|   401|1.242390359050813...|3.300718275905456...|\n",
      "|    64|   401|1.242390359050813...|3.300718275905456...|\n",
      "|  4934|   401|1.242390359050813...|3.300718275905456...|\n",
      "|  4415|   401|1.242390359050813...|3.300718275905456...|\n",
      "|  6517|   401|1.242390359050813...|3.300718275905456...|\n",
      "|  2982|   401|1.242390359050813...|3.300718275905456...|\n",
      "|  2632|   401|1.242390359050813...|3.300718275905456...|\n",
      "|  6847|   401|1.242390359050813...|3.300718275905456...|\n",
      "|  4745|   401|1.242390359050813...|3.300718275905456...|\n",
      "|  7946|   401|1.242390359050813...|3.300718275905456...|\n",
      "+------+------+--------------------+--------------------+\n",
      "only showing top 20 rows\n",
      "\n"
     ]
    }
   ],
   "source": [
    "df_mapper.filter((df_mapper.source=='401')).show()"
   ]
  },
  {
   "cell_type": "code",
   "execution_count": 142,
   "metadata": {},
   "outputs": [],
   "source": [
    "def reducer(df):\n",
    "    df=df.sort(col('target'))\n",
    "    total = df.groupBy(\"target\").agg(F.sum(\"pageRank\").alias(\"pageRankTotal\"))\n",
    "    df_as1 = total.alias(\"df_as1\")\n",
    "    df_as2 = df_node.alias(\"df_as2\")\n",
    "    df_join = df_as1.join(df_as2, col(\"df_as1.target\") == col(\"df_as2.label\"), 'inner')\n",
    "    df_join=df_join.select(\"df_as1.target\", \"df_as1.pageRankTotal\", \"df_as2.urls\").distinct().sort(col('pageRankTotal').desc())\n",
    "    return df_join"
   ]
  },
  {
   "cell_type": "code",
   "execution_count": 143,
   "metadata": {},
   "outputs": [],
   "source": [
    "df_pagerank=reducer(df_mapper)"
   ]
  },
  {
   "cell_type": "code",
   "execution_count": 148,
   "metadata": {},
   "outputs": [
    {
     "name": "stdout",
     "output_type": "stream",
     "text": [
      "+------+---------------------+------------------------------+\n",
      "|target|pageRankTotal        |urls                          |\n",
      "+------+---------------------+------------------------------+\n",
      "|6780  |1.6566803333868953E-4|www.xnd.552psb.com            |\n",
      "|7512  |1.6566803333868953E-4|WWW.CABET710.COM              |\n",
      "|4595  |1.6566803333868953E-4|WWW.2998.CC                   |\n",
      "|7566  |6.213550341778839E-5 |0-euro-handys.de              |\n",
      "|5298  |6.213550341778839E-5 |WWW.SSS0053.COM               |\n",
      "|7747  |6.213550341778839E-5 |www.24mobile.de               |\n",
      "|1635  |6.213550341778839E-5 |WWW.BM2109.COM                |\n",
      "|6766  |3.1075744441518036E-5|WWW.MAIYUNZU.COM              |\n",
      "|30    |3.105975897627034E-5 |WWW.TY015.COM                 |\n",
      "|4945  |3.105975897627034E-5 |www.hxn.psb711.com            |\n",
      "|1112  |3.105975897627034E-5 |www.111922.org                |\n",
      "|5898  |1.2439889055755833E-5|vpc9y.ssbet241.cn             |\n",
      "|7564  |1.2439889055755833E-5|so.qhdsfy.com                 |\n",
      "|4772  |1.2439889055755833E-5|v.yunaq.com                   |\n",
      "|4442  |1.2439889055755833E-5|tuku.qhdsfy.com               |\n",
      "|7511  |1.2439889055755833E-5|WWW.56563I.COM                |\n",
      "|574   |1.2439889055755833E-5|WWW.28484477.COM              |\n",
      "|2618  |1.2439889055755833E-5|www.55123.cn                  |\n",
      "|575   |1.2439889055755833E-5|WWW.941916.COM                |\n",
      "|2379  |1.2439889055755833E-5|qhdsfy.com                    |\n",
      "|2571  |1.2439889055755833E-5|WWW.45598V.COM                |\n",
      "|6581  |7.764939744067586E-6 |1hmbv.ssbet089.cn             |\n",
      "|7684  |7.764939744067586E-6 |pan.baidu.com                 |\n",
      "|5962  |7.764939744067586E-6 |WWW.6455H.COM                 |\n",
      "|6720  |7.764939744067586E-6 |WWW.TT6163.COM                |\n",
      "|6299  |7.764939744067586E-6 |www.ming-fo.com               |\n",
      "|6781  |7.764939744067586E-6 |engagedscholarship.csuohio.edu|\n",
      "|3894  |7.764939744067586E-6 |0-0ll.com                     |\n",
      "|7767  |7.764939744067586E-6 |www.liveinau.com              |\n",
      "|3383  |7.764939744067586E-6 |toefl.ixinda.com              |\n",
      "|75    |7.764939744067586E-6 |sacdr.net                     |\n",
      "|3537  |7.764939744067586E-6 |WWW.ZC5.COM                   |\n",
      "|3957  |7.764939744067586E-6 |WWW.6005I.COM                 |\n",
      "|1786  |7.764939744067586E-6 |www.tantuw.com                |\n",
      "|3767  |7.764939744067586E-6 |sc.leju.com                   |\n",
      "|867   |7.764939744067586E-6 |t.ssbet163.cn                 |\n",
      "|6721  |7.764939744067586E-6 |WWW.JS94666.COM               |\n",
      "|1192  |4.617431239509967E-6 |www.look.ru                   |\n",
      "|3433  |4.617431239509967E-6 |li.ru                         |\n",
      "|3287  |4.617431239509967E-6 |WWW.BET9078.COM               |\n",
      "|1863  |4.617431239509967E-6 |WWW.BM3475.COM                |\n",
      "|6298  |4.617431239509967E-6 |www.a-counter.com             |\n",
      "|5730  |4.617431239509967E-6 |WWW.AM79090.COM               |\n",
      "|1089  |4.617431239509967E-6 |www.0-1.ru                    |\n",
      "|1090  |4.617431239509967E-6 |www.topcto.ru                 |\n",
      "|5173  |4.617431239509967E-6 |WWW.O0709.COM                 |\n",
      "|2460  |4.617431239509967E-6 |digitalcollections.dordt.edu  |\n",
      "|7746  |4.617431239509967E-6 |www.gun.ru                    |\n",
      "|4028  |4.617431239509967E-6 |WWW.88866.CC                  |\n",
      "|4983  |4.617431239509967E-6 |WWW.MG9611.COM                |\n",
      "+------+---------------------+------------------------------+\n",
      "only showing top 50 rows\n",
      "\n"
     ]
    }
   ],
   "source": [
    "df_pagerank.show(50,truncate = False)"
   ]
  },
  {
   "cell_type": "code",
   "execution_count": 145,
   "metadata": {},
   "outputs": [
    {
     "data": {
      "text/plain": [
       "8039"
      ]
     },
     "execution_count": 145,
     "metadata": {},
     "output_type": "execute_result"
    }
   ],
   "source": [
    "df_pagerank.count()"
   ]
  },
  {
   "cell_type": "code",
   "execution_count": 146,
   "metadata": {},
   "outputs": [
    {
     "data": {
      "text/plain": [
       "8039"
      ]
     },
     "execution_count": 146,
     "metadata": {},
     "output_type": "execute_result"
    }
   ],
   "source": [
    "df_pagerank.distinct().count()"
   ]
  },
  {
   "cell_type": "code",
   "execution_count": 149,
   "metadata": {},
   "outputs": [],
   "source": [
    "df_pagerank.write.parquet(\"s3://aws-logs-780494741284-us-east-1/dataset/df_pagerank\",mode=\"overwrite\")"
   ]
  },
  {
   "cell_type": "code",
   "execution_count": 150,
   "metadata": {},
   "outputs": [],
   "source": [
    "spark.stop()"
   ]
  },
  {
   "cell_type": "code",
   "execution_count": null,
   "metadata": {},
   "outputs": [],
   "source": []
  }
 ],
 "metadata": {
  "kernelspec": {
   "display_name": "Python 3",
   "language": "python",
   "name": "python3"
  },
  "language_info": {
   "codemirror_mode": {
    "name": "ipython",
    "version": 3
   },
   "file_extension": ".py",
   "mimetype": "text/x-python",
   "name": "python",
   "nbconvert_exporter": "python",
   "pygments_lexer": "ipython3",
   "version": "3.7.6"
  }
 },
 "nbformat": 4,
 "nbformat_minor": 4
}
