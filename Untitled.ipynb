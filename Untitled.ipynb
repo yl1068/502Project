{
 "cells": [
  {
   "cell_type": "code",
   "execution_count": 39,
   "metadata": {},
   "outputs": [],
   "source": [
    "import findspark\n",
    "findspark.init()\n",
    "from pyspark.sql import SparkSession\n",
    "spark = SparkSession.builder.appName(\"lab-ml\").getOrCreate()\n"
   ]
  },
  {
   "cell_type": "code",
   "execution_count": 40,
   "metadata": {},
   "outputs": [
    {
     "data": {
      "text/html": [
       "\n",
       "            <div>\n",
       "                <p><b>SparkSession - in-memory</b></p>\n",
       "                \n",
       "        <div>\n",
       "            <p><b>SparkContext</b></p>\n",
       "\n",
       "            <p><a href=\"http://ip-172-31-79-1.ec2.internal:4040\">Spark UI</a></p>\n",
       "\n",
       "            <dl>\n",
       "              <dt>Version</dt>\n",
       "                <dd><code>v2.4.4</code></dd>\n",
       "              <dt>Master</dt>\n",
       "                <dd><code>yarn</code></dd>\n",
       "              <dt>AppName</dt>\n",
       "                <dd><code>lab-ml</code></dd>\n",
       "            </dl>\n",
       "        </div>\n",
       "        \n",
       "            </div>\n",
       "        "
      ],
      "text/plain": [
       "<pyspark.sql.session.SparkSession at 0x7f0d84090f50>"
      ]
     },
     "execution_count": 40,
     "metadata": {},
     "output_type": "execute_result"
    }
   ],
   "source": [
    "spark"
   ]
  },
  {
   "cell_type": "code",
   "execution_count": 82,
   "metadata": {},
   "outputs": [],
   "source": [
    "#df = spark.read.parquet(\"s3://aws-logs-780494741284-us-east-1/dataset/project_graph_data\")"
   ]
  },
  {
   "cell_type": "code",
   "execution_count": 132,
   "metadata": {},
   "outputs": [],
   "source": [
    "#df.take(10)"
   ]
  },
  {
   "cell_type": "code",
   "execution_count": 133,
   "metadata": {},
   "outputs": [],
   "source": [
    "#df.count()"
   ]
  },
  {
   "cell_type": "code",
   "execution_count": 134,
   "metadata": {},
   "outputs": [],
   "source": [
    "#df.distinct().count()"
   ]
  },
  {
   "cell_type": "code",
   "execution_count": 217,
   "metadata": {},
   "outputs": [],
   "source": [
    "df_node = spark.read.parquet(\"s3://aws-logs-780494741284-us-east-1/dataset/graph_node_domain\")"
   ]
  },
  {
   "cell_type": "code",
   "execution_count": 218,
   "metadata": {},
   "outputs": [
    {
     "data": {
      "text/plain": [
       "[Row(urls='5.ssbet180.cn', label=1169),\n",
       " Row(urls='WWW.000747.COM', label=1152),\n",
       " Row(urls='WWW.000747.COM', label=1152),\n",
       " Row(urls='WWW.013821.COM', label=1125),\n",
       " Row(urls='WWW.013821.COM', label=1125),\n",
       " Row(urls='WWW.013821.COM', label=1125),\n",
       " Row(urls='WWW.126357.COM', label=1160),\n",
       " Row(urls='WWW.126357.COM', label=1160),\n",
       " Row(urls='WWW.126357.COM', label=1160),\n",
       " Row(urls='WWW.1418000.COM', label=1150)]"
      ]
     },
     "execution_count": 218,
     "metadata": {},
     "output_type": "execute_result"
    }
   ],
   "source": [
    "df_node.take(10)"
   ]
  },
  {
   "cell_type": "code",
   "execution_count": 219,
   "metadata": {},
   "outputs": [
    {
     "data": {
      "text/plain": [
       "54947"
      ]
     },
     "execution_count": 219,
     "metadata": {},
     "output_type": "execute_result"
    }
   ],
   "source": [
    "df_node.count()"
   ]
  },
  {
   "cell_type": "code",
   "execution_count": 220,
   "metadata": {},
   "outputs": [
    {
     "data": {
      "text/plain": [
       "8049"
      ]
     },
     "execution_count": 220,
     "metadata": {},
     "output_type": "execute_result"
    }
   ],
   "source": [
    "df_node.distinct().count()"
   ]
  },
  {
   "cell_type": "code",
   "execution_count": 222,
   "metadata": {},
   "outputs": [],
   "source": [
    "df_edge = spark.read.parquet(\"s3://aws-logs-780494741284-us-east-1/dataset/graph_edges_domain\")"
   ]
  },
  {
   "cell_type": "code",
   "execution_count": 223,
   "metadata": {},
   "outputs": [
    {
     "data": {
      "text/plain": [
       "[Row(target='7249', source='2213'),\n",
       " Row(target='7295', source='2213'),\n",
       " Row(target='3675', source='2213'),\n",
       " Row(target='7614', source='2213'),\n",
       " Row(target='3831', source='2213'),\n",
       " Row(target='5183', source='2213'),\n",
       " Row(target='5151', source='2213'),\n",
       " Row(target='1002', source='2213'),\n",
       " Row(target='2810', source='2213'),\n",
       " Row(target='6360', source='2213')]"
      ]
     },
     "execution_count": 223,
     "metadata": {},
     "output_type": "execute_result"
    }
   ],
   "source": [
    "df_edge.take(10)"
   ]
  },
  {
   "cell_type": "code",
   "execution_count": 224,
   "metadata": {},
   "outputs": [
    {
     "data": {
      "text/plain": [
       "23381"
      ]
     },
     "execution_count": 224,
     "metadata": {},
     "output_type": "execute_result"
    }
   ],
   "source": [
    "df_edge.count()"
   ]
  },
  {
   "cell_type": "code",
   "execution_count": 225,
   "metadata": {},
   "outputs": [
    {
     "data": {
      "text/plain": [
       "19271"
      ]
     },
     "execution_count": 225,
     "metadata": {},
     "output_type": "execute_result"
    }
   ],
   "source": [
    "df_edge.distinct().count()"
   ]
  },
  {
   "cell_type": "code",
   "execution_count": 228,
   "metadata": {},
   "outputs": [],
   "source": [
    "df_edge=df_edge.distinct()"
   ]
  },
  {
   "cell_type": "code",
   "execution_count": 229,
   "metadata": {},
   "outputs": [
    {
     "data": {
      "text/plain": [
       "19271"
      ]
     },
     "execution_count": 229,
     "metadata": {},
     "output_type": "execute_result"
    }
   ],
   "source": [
    "df_edge.count()"
   ]
  },
  {
   "cell_type": "code",
   "execution_count": 118,
   "metadata": {},
   "outputs": [],
   "source": [
    "#edge_source_dinst=df_edge.select(\"source\").distinct().show()"
   ]
  },
  {
   "cell_type": "code",
   "execution_count": 226,
   "metadata": {},
   "outputs": [],
   "source": [
    "edge_source_num=df_edge.select(\"source\").distinct().count()"
   ]
  },
  {
   "cell_type": "code",
   "execution_count": 227,
   "metadata": {},
   "outputs": [
    {
     "data": {
      "text/plain": [
       "17"
      ]
     },
     "execution_count": 227,
     "metadata": {},
     "output_type": "execute_result"
    }
   ],
   "source": [
    "edge_source_num"
   ]
  },
  {
   "cell_type": "code",
   "execution_count": 110,
   "metadata": {},
   "outputs": [],
   "source": [
    "#source_dinst=df.select(\"source\").distinct().show()"
   ]
  },
  {
   "cell_type": "code",
   "execution_count": 230,
   "metadata": {},
   "outputs": [],
   "source": [
    "nodes_num=df_node.select(\"urls\").distinct().count()"
   ]
  },
  {
   "cell_type": "code",
   "execution_count": 231,
   "metadata": {},
   "outputs": [
    {
     "data": {
      "text/plain": [
       "8049"
      ]
     },
     "execution_count": 231,
     "metadata": {},
     "output_type": "execute_result"
    }
   ],
   "source": [
    "nodes_num"
   ]
  },
  {
   "cell_type": "code",
   "execution_count": 232,
   "metadata": {},
   "outputs": [],
   "source": [
    "initial_value=1/nodes_num"
   ]
  },
  {
   "cell_type": "code",
   "execution_count": 233,
   "metadata": {},
   "outputs": [
    {
     "data": {
      "text/plain": [
       "0.00012423903590508137"
      ]
     },
     "execution_count": 233,
     "metadata": {},
     "output_type": "execute_result"
    }
   ],
   "source": [
    "initial_value"
   ]
  },
  {
   "cell_type": "code",
   "execution_count": 234,
   "metadata": {},
   "outputs": [],
   "source": [
    "from pyspark.sql.functions import *"
   ]
  },
  {
   "cell_type": "code",
   "execution_count": 235,
   "metadata": {},
   "outputs": [],
   "source": [
    "df_edge = df_edge.withColumn(\"initialValue\", lit(initial_value))"
   ]
  },
  {
   "cell_type": "code",
   "execution_count": 236,
   "metadata": {},
   "outputs": [
    {
     "data": {
      "text/plain": [
       "[Row(target='958', source='7565', initialValue=0.00012423903590508137),\n",
       " Row(target='5927', source='7565', initialValue=0.00012423903590508137),\n",
       " Row(target='2216', source='5268', initialValue=0.00012423903590508137),\n",
       " Row(target='4182', source='5268', initialValue=0.00012423903590508137),\n",
       " Row(target='7020', source='7565', initialValue=0.00012423903590508137),\n",
       " Row(target='2197', source='7565', initialValue=0.00012423903590508137),\n",
       " Row(target='4859', source='401', initialValue=0.00012423903590508137),\n",
       " Row(target='4789', source='401', initialValue=0.00012423903590508137),\n",
       " Row(target='6742', source='7565', initialValue=0.00012423903590508137),\n",
       " Row(target='3697', source='401', initialValue=0.00012423903590508137)]"
      ]
     },
     "execution_count": 236,
     "metadata": {},
     "output_type": "execute_result"
    }
   ],
   "source": [
    "df_edge.take(10)"
   ]
  },
  {
   "cell_type": "code",
   "execution_count": 237,
   "metadata": {},
   "outputs": [],
   "source": [
    "df_edge=df_edge.sort(col(\"source\"))"
   ]
  },
  {
   "cell_type": "code",
   "execution_count": 238,
   "metadata": {},
   "outputs": [
    {
     "data": {
      "text/plain": [
       "[Row(target='7512', source='1241', initialValue=0.00012423903590508137),\n",
       " Row(target='4595', source='1241', initialValue=0.00012423903590508137),\n",
       " Row(target='6780', source='1241', initialValue=0.00012423903590508137),\n",
       " Row(target='5894', source='1514', initialValue=0.00012423903590508137),\n",
       " Row(target='5180', source='1514', initialValue=0.00012423903590508137),\n",
       " Row(target='5471', source='1514', initialValue=0.00012423903590508137),\n",
       " Row(target='2116', source='1514', initialValue=0.00012423903590508137),\n",
       " Row(target='3153', source='1514', initialValue=0.00012423903590508137),\n",
       " Row(target='4195', source='1514', initialValue=0.00012423903590508137),\n",
       " Row(target='7443', source='1514', initialValue=0.00012423903590508137)]"
      ]
     },
     "execution_count": 238,
     "metadata": {},
     "output_type": "execute_result"
    }
   ],
   "source": [
    "df_edge.take(10)"
   ]
  },
  {
   "cell_type": "code",
   "execution_count": 172,
   "metadata": {},
   "outputs": [
    {
     "name": "stdout",
     "output_type": "stream",
     "text": [
      "+---------------+-----+\n",
      "|           urls|label|\n",
      "+---------------+-----+\n",
      "|/WWW.QMWLF.COM/|    0|\n",
      "|/WWW.QMWLF.COM/|    0|\n",
      "|/WWW.QMWLF.COM/|    0|\n",
      "+---------------+-----+\n",
      "\n"
     ]
    }
   ],
   "source": [
    "df_node.filter((df_node.label=='0')).show()"
   ]
  },
  {
   "cell_type": "code",
   "execution_count": 239,
   "metadata": {},
   "outputs": [],
   "source": [
    "test=df_edge.filter(((df_edge.source == '1241')|(df_edge.source == '1514')))"
   ]
  },
  {
   "cell_type": "code",
   "execution_count": 240,
   "metadata": {},
   "outputs": [],
   "source": [
    "test=test.sort(col(\"source\"))"
   ]
  },
  {
   "cell_type": "code",
   "execution_count": 241,
   "metadata": {},
   "outputs": [
    {
     "data": {
      "text/plain": [
       "[Row(target='4595', source='1241', initialValue=0.00012423903590508137),\n",
       " Row(target='7512', source='1241', initialValue=0.00012423903590508137),\n",
       " Row(target='6780', source='1241', initialValue=0.00012423903590508137),\n",
       " Row(target='5471', source='1514', initialValue=0.00012423903590508137),\n",
       " Row(target='5180', source='1514', initialValue=0.00012423903590508137),\n",
       " Row(target='7283', source='1514', initialValue=0.00012423903590508137),\n",
       " Row(target='5894', source='1514', initialValue=0.00012423903590508137),\n",
       " Row(target='7443', source='1514', initialValue=0.00012423903590508137),\n",
       " Row(target='4195', source='1514', initialValue=0.00012423903590508137),\n",
       " Row(target='2116', source='1514', initialValue=0.00012423903590508137)]"
      ]
     },
     "execution_count": 241,
     "metadata": {},
     "output_type": "execute_result"
    }
   ],
   "source": [
    "test.take(10)"
   ]
  },
  {
   "cell_type": "code",
   "execution_count": 242,
   "metadata": {},
   "outputs": [
    {
     "data": {
      "text/plain": [
       "71"
      ]
     },
     "execution_count": 242,
     "metadata": {},
     "output_type": "execute_result"
    }
   ],
   "source": [
    "test.count()"
   ]
  },
  {
   "cell_type": "code",
   "execution_count": 185,
   "metadata": {},
   "outputs": [
    {
     "data": {
      "text/plain": [
       "Row(source='10887', target='12467', initialValue=6.838074398249453e-05)"
      ]
     },
     "execution_count": 185,
     "metadata": {},
     "output_type": "execute_result"
    }
   ],
   "source": [
    "test.first()"
   ]
  },
  {
   "cell_type": "code",
   "execution_count": 243,
   "metadata": {},
   "outputs": [],
   "source": [
    "test_source=test.select(\"source\").distinct().rdd.flatMap(lambda x: x).collect()"
   ]
  },
  {
   "cell_type": "code",
   "execution_count": 244,
   "metadata": {},
   "outputs": [
    {
     "data": {
      "text/plain": [
       "['1241', '1514']"
      ]
     },
     "execution_count": 244,
     "metadata": {},
     "output_type": "execute_result"
    }
   ],
   "source": [
    "test_source"
   ]
  },
  {
   "cell_type": "code",
   "execution_count": 250,
   "metadata": {},
   "outputs": [],
   "source": [
    "test=test.withColumn(\"pageRank\",lit(0))"
   ]
  },
  {
   "cell_type": "code",
   "execution_count": 253,
   "metadata": {},
   "outputs": [
    {
     "name": "stdout",
     "output_type": "stream",
     "text": [
      "1241\n",
      "3\n",
      "1514\n",
      "68\n"
     ]
    }
   ],
   "source": [
    "for source in test_source:\n",
    "    print(source)\n",
    "    count=test.filter((test.source==source)).count()\n",
    "    print(count)\n",
    "    test = test.withColumn(\"pageRank\", when((test.source==source),initial_value/count).otherwise(test.pageRank))"
   ]
  },
  {
   "cell_type": "code",
   "execution_count": 254,
   "metadata": {},
   "outputs": [
    {
     "data": {
      "text/plain": [
       "[Row(target='4595', source='1241', initialValue=0.00012423903590508137, pageRank='4.141301196836046E-5'),\n",
       " Row(target='6780', source='1241', initialValue=0.00012423903590508137, pageRank='4.141301196836046E-5'),\n",
       " Row(target='7512', source='1241', initialValue=0.00012423903590508137, pageRank='4.141301196836046E-5'),\n",
       " Row(target='3536', source='1514', initialValue=0.00012423903590508137, pageRank='1.8270446456629614E-6'),\n",
       " Row(target='5772', source='1514', initialValue=0.00012423903590508137, pageRank='1.8270446456629614E-6'),\n",
       " Row(target='195', source='1514', initialValue=0.00012423903590508137, pageRank='1.8270446456629614E-6'),\n",
       " Row(target='4137', source='1514', initialValue=0.00012423903590508137, pageRank='1.8270446456629614E-6'),\n",
       " Row(target='1552', source='1514', initialValue=0.00012423903590508137, pageRank='1.8270446456629614E-6'),\n",
       " Row(target='2206', source='1514', initialValue=0.00012423903590508137, pageRank='1.8270446456629614E-6'),\n",
       " Row(target='2336', source='1514', initialValue=0.00012423903590508137, pageRank='1.8270446456629614E-6')]"
      ]
     },
     "execution_count": 254,
     "metadata": {},
     "output_type": "execute_result"
    }
   ],
   "source": [
    "test.take(10)"
   ]
  },
  {
   "cell_type": "code",
   "execution_count": 255,
   "metadata": {},
   "outputs": [],
   "source": [
    "test=test.sort(col(\"target\"))"
   ]
  },
  {
   "cell_type": "code",
   "execution_count": 257,
   "metadata": {},
   "outputs": [
    {
     "data": {
      "text/plain": [
       "[Row(target='1018', source='1514', initialValue=0.00012423903590508137, pageRank='1.8270446456629614E-6'),\n",
       " Row(target='1019', source='1514', initialValue=0.00012423903590508137, pageRank='1.8270446456629614E-6'),\n",
       " Row(target='1148', source='1514', initialValue=0.00012423903590508137, pageRank='1.8270446456629614E-6'),\n",
       " Row(target='122', source='1514', initialValue=0.00012423903590508137, pageRank='1.8270446456629614E-6'),\n",
       " Row(target='1514', source='1514', initialValue=0.00012423903590508137, pageRank='1.8270446456629614E-6'),\n",
       " Row(target='1552', source='1514', initialValue=0.00012423903590508137, pageRank='1.8270446456629614E-6'),\n",
       " Row(target='1657', source='1514', initialValue=0.00012423903590508137, pageRank='1.8270446456629614E-6'),\n",
       " Row(target='1758', source='1514', initialValue=0.00012423903590508137, pageRank='1.8270446456629614E-6'),\n",
       " Row(target='195', source='1514', initialValue=0.00012423903590508137, pageRank='1.8270446456629614E-6'),\n",
       " Row(target='2024', source='1514', initialValue=0.00012423903590508137, pageRank='1.8270446456629614E-6'),\n",
       " Row(target='2032', source='1514', initialValue=0.00012423903590508137, pageRank='1.8270446456629614E-6'),\n",
       " Row(target='2116', source='1514', initialValue=0.00012423903590508137, pageRank='1.8270446456629614E-6'),\n",
       " Row(target='2206', source='1514', initialValue=0.00012423903590508137, pageRank='1.8270446456629614E-6'),\n",
       " Row(target='2336', source='1514', initialValue=0.00012423903590508137, pageRank='1.8270446456629614E-6'),\n",
       " Row(target='2619', source='1514', initialValue=0.00012423903590508137, pageRank='1.8270446456629614E-6'),\n",
       " Row(target='2706', source='1514', initialValue=0.00012423903590508137, pageRank='1.8270446456629614E-6'),\n",
       " Row(target='2794', source='1514', initialValue=0.00012423903590508137, pageRank='1.8270446456629614E-6'),\n",
       " Row(target='2879', source='1514', initialValue=0.00012423903590508137, pageRank='1.8270446456629614E-6'),\n",
       " Row(target='3111', source='1514', initialValue=0.00012423903590508137, pageRank='1.8270446456629614E-6'),\n",
       " Row(target='3153', source='1514', initialValue=0.00012423903590508137, pageRank='1.8270446456629614E-6'),\n",
       " Row(target='3254', source='1514', initialValue=0.00012423903590508137, pageRank='1.8270446456629614E-6'),\n",
       " Row(target='351', source='1514', initialValue=0.00012423903590508137, pageRank='1.8270446456629614E-6'),\n",
       " Row(target='3536', source='1514', initialValue=0.00012423903590508137, pageRank='1.8270446456629614E-6'),\n",
       " Row(target='3585', source='1514', initialValue=0.00012423903590508137, pageRank='1.8270446456629614E-6'),\n",
       " Row(target='3812', source='1514', initialValue=0.00012423903590508137, pageRank='1.8270446456629614E-6'),\n",
       " Row(target='4029', source='1514', initialValue=0.00012423903590508137, pageRank='1.8270446456629614E-6'),\n",
       " Row(target='4030', source='1514', initialValue=0.00012423903590508137, pageRank='1.8270446456629614E-6'),\n",
       " Row(target='4063', source='1514', initialValue=0.00012423903590508137, pageRank='1.8270446456629614E-6'),\n",
       " Row(target='4118', source='1514', initialValue=0.00012423903590508137, pageRank='1.8270446456629614E-6'),\n",
       " Row(target='4137', source='1514', initialValue=0.00012423903590508137, pageRank='1.8270446456629614E-6'),\n",
       " Row(target='4195', source='1514', initialValue=0.00012423903590508137, pageRank='1.8270446456629614E-6'),\n",
       " Row(target='4276', source='1514', initialValue=0.00012423903590508137, pageRank='1.8270446456629614E-6'),\n",
       " Row(target='4344', source='1514', initialValue=0.00012423903590508137, pageRank='1.8270446456629614E-6'),\n",
       " Row(target='4426', source='1514', initialValue=0.00012423903590508137, pageRank='1.8270446456629614E-6'),\n",
       " Row(target='453', source='1514', initialValue=0.00012423903590508137, pageRank='1.8270446456629614E-6'),\n",
       " Row(target='4595', source='1241', initialValue=0.00012423903590508137, pageRank='4.141301196836046E-5'),\n",
       " Row(target='475', source='1514', initialValue=0.00012423903590508137, pageRank='1.8270446456629614E-6'),\n",
       " Row(target='5175', source='1514', initialValue=0.00012423903590508137, pageRank='1.8270446456629614E-6'),\n",
       " Row(target='5179', source='1514', initialValue=0.00012423903590508137, pageRank='1.8270446456629614E-6'),\n",
       " Row(target='5180', source='1514', initialValue=0.00012423903590508137, pageRank='1.8270446456629614E-6'),\n",
       " Row(target='5299', source='1514', initialValue=0.00012423903590508137, pageRank='1.8270446456629614E-6'),\n",
       " Row(target='5329', source='1514', initialValue=0.00012423903590508137, pageRank='1.8270446456629614E-6'),\n",
       " Row(target='5471', source='1514', initialValue=0.00012423903590508137, pageRank='1.8270446456629614E-6'),\n",
       " Row(target='553', source='1514', initialValue=0.00012423903590508137, pageRank='1.8270446456629614E-6'),\n",
       " Row(target='5586', source='1514', initialValue=0.00012423903590508137, pageRank='1.8270446456629614E-6'),\n",
       " Row(target='5587', source='1514', initialValue=0.00012423903590508137, pageRank='1.8270446456629614E-6'),\n",
       " Row(target='5669', source='1514', initialValue=0.00012423903590508137, pageRank='1.8270446456629614E-6'),\n",
       " Row(target='5731', source='1514', initialValue=0.00012423903590508137, pageRank='1.8270446456629614E-6'),\n",
       " Row(target='5772', source='1514', initialValue=0.00012423903590508137, pageRank='1.8270446456629614E-6'),\n",
       " Row(target='5894', source='1514', initialValue=0.00012423903590508137, pageRank='1.8270446456629614E-6')]"
      ]
     },
     "execution_count": 257,
     "metadata": {},
     "output_type": "execute_result"
    }
   ],
   "source": [
    "test.take(50)"
   ]
  },
  {
   "cell_type": "code",
   "execution_count": null,
   "metadata": {},
   "outputs": [],
   "source": [
    "test."
   ]
  },
  {
   "cell_type": "code",
   "execution_count": null,
   "metadata": {},
   "outputs": [],
   "source": []
  },
  {
   "cell_type": "code",
   "execution_count": null,
   "metadata": {},
   "outputs": [],
   "source": []
  },
  {
   "cell_type": "code",
   "execution_count": null,
   "metadata": {},
   "outputs": [],
   "source": []
  },
  {
   "cell_type": "code",
   "execution_count": null,
   "metadata": {},
   "outputs": [],
   "source": [
    "spark.stop()"
   ]
  }
 ],
 "metadata": {
  "kernelspec": {
   "display_name": "Python 3",
   "language": "python",
   "name": "python3"
  },
  "language_info": {
   "codemirror_mode": {
    "name": "ipython",
    "version": 3
   },
   "file_extension": ".py",
   "mimetype": "text/x-python",
   "name": "python",
   "nbconvert_exporter": "python",
   "pygments_lexer": "ipython3",
   "version": "3.7.6"
  }
 },
 "nbformat": 4,
 "nbformat_minor": 4
}
