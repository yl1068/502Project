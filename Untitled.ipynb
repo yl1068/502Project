{
 "cells": [
  {
   "cell_type": "code",
   "execution_count": 1,
   "metadata": {},
   "outputs": [],
   "source": [
    "import findspark\n",
    "findspark.init()\n",
    "from pyspark.sql import SparkSession\n",
    "spark = SparkSession.builder.appName(\"lab-ml\").getOrCreate()\n"
   ]
  },
  {
   "cell_type": "code",
   "execution_count": 2,
   "metadata": {},
   "outputs": [
    {
     "data": {
      "text/html": [
       "\n",
       "            <div>\n",
       "                <p><b>SparkSession - in-memory</b></p>\n",
       "                \n",
       "        <div>\n",
       "            <p><b>SparkContext</b></p>\n",
       "\n",
       "            <p><a href=\"http://ip-172-31-75-130.ec2.internal:4040\">Spark UI</a></p>\n",
       "\n",
       "            <dl>\n",
       "              <dt>Version</dt>\n",
       "                <dd><code>v2.4.4</code></dd>\n",
       "              <dt>Master</dt>\n",
       "                <dd><code>yarn</code></dd>\n",
       "              <dt>AppName</dt>\n",
       "                <dd><code>lab-ml</code></dd>\n",
       "            </dl>\n",
       "        </div>\n",
       "        \n",
       "            </div>\n",
       "        "
      ],
      "text/plain": [
       "<pyspark.sql.session.SparkSession at 0x7fbb901675d0>"
      ]
     },
     "execution_count": 2,
     "metadata": {},
     "output_type": "execute_result"
    }
   ],
   "source": [
    "spark"
   ]
  },
  {
   "cell_type": "code",
   "execution_count": 3,
   "metadata": {},
   "outputs": [],
   "source": [
    "#df = spark.read.parquet(\"s3://aws-logs-780494741284-us-east-1/dataset/project_graph_data\")"
   ]
  },
  {
   "cell_type": "code",
   "execution_count": 4,
   "metadata": {},
   "outputs": [],
   "source": [
    "#df.take(10)"
   ]
  },
  {
   "cell_type": "code",
   "execution_count": 5,
   "metadata": {},
   "outputs": [],
   "source": [
    "#df.count()"
   ]
  },
  {
   "cell_type": "code",
   "execution_count": 6,
   "metadata": {},
   "outputs": [],
   "source": [
    "#df.distinct().count()"
   ]
  },
  {
   "cell_type": "code",
   "execution_count": 7,
   "metadata": {},
   "outputs": [],
   "source": [
    "df_node = spark.read.parquet(\"s3://aws-logs-780494741284-us-east-1/dataset/graph_node_domain\")"
   ]
  },
  {
   "cell_type": "code",
   "execution_count": 8,
   "metadata": {},
   "outputs": [
    {
     "data": {
      "text/plain": [
       "[Row(urls='5.ssbet180.cn', label=1169),\n",
       " Row(urls='WWW.000747.COM', label=1152),\n",
       " Row(urls='WWW.000747.COM', label=1152),\n",
       " Row(urls='WWW.013821.COM', label=1125),\n",
       " Row(urls='WWW.013821.COM', label=1125),\n",
       " Row(urls='WWW.013821.COM', label=1125),\n",
       " Row(urls='WWW.126357.COM', label=1160),\n",
       " Row(urls='WWW.126357.COM', label=1160),\n",
       " Row(urls='WWW.126357.COM', label=1160),\n",
       " Row(urls='WWW.1418000.COM', label=1150)]"
      ]
     },
     "execution_count": 8,
     "metadata": {},
     "output_type": "execute_result"
    }
   ],
   "source": [
    "df_node.take(10)"
   ]
  },
  {
   "cell_type": "code",
   "execution_count": 9,
   "metadata": {},
   "outputs": [
    {
     "data": {
      "text/plain": [
       "54947"
      ]
     },
     "execution_count": 9,
     "metadata": {},
     "output_type": "execute_result"
    }
   ],
   "source": [
    "df_node.count()"
   ]
  },
  {
   "cell_type": "code",
   "execution_count": 10,
   "metadata": {},
   "outputs": [
    {
     "data": {
      "text/plain": [
       "8049"
      ]
     },
     "execution_count": 10,
     "metadata": {},
     "output_type": "execute_result"
    }
   ],
   "source": [
    "df_node.distinct().count()"
   ]
  },
  {
   "cell_type": "code",
   "execution_count": 11,
   "metadata": {},
   "outputs": [],
   "source": [
    "df_edge = spark.read.parquet(\"s3://aws-logs-780494741284-us-east-1/dataset/graph_edges_domain\")"
   ]
  },
  {
   "cell_type": "code",
   "execution_count": 12,
   "metadata": {},
   "outputs": [
    {
     "data": {
      "text/plain": [
       "[Row(target='7249', source='2213'),\n",
       " Row(target='7295', source='2213'),\n",
       " Row(target='3675', source='2213'),\n",
       " Row(target='7614', source='2213'),\n",
       " Row(target='3831', source='2213'),\n",
       " Row(target='5183', source='2213'),\n",
       " Row(target='5151', source='2213'),\n",
       " Row(target='1002', source='2213'),\n",
       " Row(target='2810', source='2213'),\n",
       " Row(target='6360', source='2213')]"
      ]
     },
     "execution_count": 12,
     "metadata": {},
     "output_type": "execute_result"
    }
   ],
   "source": [
    "df_edge.take(10)"
   ]
  },
  {
   "cell_type": "code",
   "execution_count": 13,
   "metadata": {},
   "outputs": [
    {
     "data": {
      "text/plain": [
       "23381"
      ]
     },
     "execution_count": 13,
     "metadata": {},
     "output_type": "execute_result"
    }
   ],
   "source": [
    "df_edge.count()"
   ]
  },
  {
   "cell_type": "code",
   "execution_count": 14,
   "metadata": {},
   "outputs": [
    {
     "data": {
      "text/plain": [
       "19271"
      ]
     },
     "execution_count": 14,
     "metadata": {},
     "output_type": "execute_result"
    }
   ],
   "source": [
    "df_edge.distinct().count()"
   ]
  },
  {
   "cell_type": "code",
   "execution_count": 15,
   "metadata": {},
   "outputs": [],
   "source": [
    "#keep dinstict edges\n",
    "df_edge=df_edge.distinct()"
   ]
  },
  {
   "cell_type": "code",
   "execution_count": 16,
   "metadata": {},
   "outputs": [
    {
     "data": {
      "text/plain": [
       "19271"
      ]
     },
     "execution_count": 16,
     "metadata": {},
     "output_type": "execute_result"
    }
   ],
   "source": [
    "df_edge.count()"
   ]
  },
  {
   "cell_type": "code",
   "execution_count": 17,
   "metadata": {},
   "outputs": [],
   "source": [
    "#edge_source_dinst=df_edge.select(\"source\").distinct().show()"
   ]
  },
  {
   "cell_type": "code",
   "execution_count": 18,
   "metadata": {},
   "outputs": [],
   "source": [
    "#number of distinct source node in dataset\n",
    "edge_source_num=df_edge.select(\"source\").distinct().count()"
   ]
  },
  {
   "cell_type": "code",
   "execution_count": 19,
   "metadata": {},
   "outputs": [
    {
     "data": {
      "text/plain": [
       "17"
      ]
     },
     "execution_count": 19,
     "metadata": {},
     "output_type": "execute_result"
    }
   ],
   "source": [
    "edge_source_num"
   ]
  },
  {
   "cell_type": "code",
   "execution_count": 20,
   "metadata": {},
   "outputs": [],
   "source": [
    "#source_dinst=df.select(\"source\").distinct().show()"
   ]
  },
  {
   "cell_type": "code",
   "execution_count": 21,
   "metadata": {},
   "outputs": [],
   "source": [
    "#number of dinstinct urls in dataset\n",
    "nodes_num=df_node.select(\"urls\").distinct().count()"
   ]
  },
  {
   "cell_type": "code",
   "execution_count": 22,
   "metadata": {},
   "outputs": [
    {
     "data": {
      "text/plain": [
       "8049"
      ]
     },
     "execution_count": 22,
     "metadata": {},
     "output_type": "execute_result"
    }
   ],
   "source": [
    "nodes_num"
   ]
  },
  {
   "cell_type": "code",
   "execution_count": 23,
   "metadata": {},
   "outputs": [],
   "source": [
    "#inital value for each distinct url\n",
    "initial_value=1/nodes_num"
   ]
  },
  {
   "cell_type": "code",
   "execution_count": 24,
   "metadata": {},
   "outputs": [
    {
     "data": {
      "text/plain": [
       "0.00012423903590508137"
      ]
     },
     "execution_count": 24,
     "metadata": {},
     "output_type": "execute_result"
    }
   ],
   "source": [
    "initial_value"
   ]
  },
  {
   "cell_type": "code",
   "execution_count": 25,
   "metadata": {},
   "outputs": [],
   "source": [
    "from pyspark.sql.functions import *"
   ]
  },
  {
   "cell_type": "code",
   "execution_count": 26,
   "metadata": {},
   "outputs": [],
   "source": [
    "#add initial value column\n",
    "df_edge = df_edge.withColumn(\"initialValue\", lit(initial_value))"
   ]
  },
  {
   "cell_type": "code",
   "execution_count": 27,
   "metadata": {},
   "outputs": [
    {
     "data": {
      "text/plain": [
       "[Row(target='6984', source='2213', initialValue=0.00012423903590508137),\n",
       " Row(target='6210', source='6537', initialValue=0.00012423903590508137),\n",
       " Row(target='6506', source='401', initialValue=0.00012423903590508137),\n",
       " Row(target='2116', source='1514', initialValue=0.00012423903590508137),\n",
       " Row(target='42', source='401', initialValue=0.00012423903590508137),\n",
       " Row(target='4487', source='7565', initialValue=0.00012423903590508137),\n",
       " Row(target='7020', source='7565', initialValue=0.00012423903590508137),\n",
       " Row(target='4569', source='7565', initialValue=0.00012423903590508137),\n",
       " Row(target='5626', source='2213', initialValue=0.00012423903590508137),\n",
       " Row(target='5103', source='7565', initialValue=0.00012423903590508137)]"
      ]
     },
     "execution_count": 27,
     "metadata": {},
     "output_type": "execute_result"
    }
   ],
   "source": [
    "df_edge.take(10)"
   ]
  },
  {
   "cell_type": "code",
   "execution_count": 28,
   "metadata": {},
   "outputs": [],
   "source": [
    "#sort dataset by source id\n",
    "df_edge=df_edge.sort(col(\"source\"))"
   ]
  },
  {
   "cell_type": "code",
   "execution_count": 29,
   "metadata": {},
   "outputs": [
    {
     "data": {
      "text/plain": [
       "[Row(target='6780', source='1241', initialValue=0.00012423903590508137),\n",
       " Row(target='4595', source='1241', initialValue=0.00012423903590508137),\n",
       " Row(target='7512', source='1241', initialValue=0.00012423903590508137),\n",
       " Row(target='6873', source='1514', initialValue=0.00012423903590508137),\n",
       " Row(target='5471', source='1514', initialValue=0.00012423903590508137),\n",
       " Row(target='195', source='1514', initialValue=0.00012423903590508137),\n",
       " Row(target='5772', source='1514', initialValue=0.00012423903590508137),\n",
       " Row(target='7443', source='1514', initialValue=0.00012423903590508137),\n",
       " Row(target='4195', source='1514', initialValue=0.00012423903590508137),\n",
       " Row(target='8015', source='1514', initialValue=0.00012423903590508137)]"
      ]
     },
     "execution_count": 29,
     "metadata": {},
     "output_type": "execute_result"
    }
   ],
   "source": [
    "df_edge.take(10)"
   ]
  },
  {
   "cell_type": "code",
   "execution_count": 51,
   "metadata": {},
   "outputs": [],
   "source": [
    "#mapping page rank weight for each edge\n",
    "def mapper(df_edge):\n",
    "    df_edge_source=df_edge.select(\"source\").distinct().rdd.flatMap(lambda x: x).collect()\n",
    "    df_edge=df_edge.withColumn(\"pageRank\",lit(0))\n",
    "    for source in df_edge_source:\n",
    "        #count number of edges under same source node\n",
    "        count=df_edge.filter((df_edge.source==source)).count()\n",
    "        #calculate page rank weight under the same source node\n",
    "        df_edge = df_edge.withColumn(\"pageRank\", when((df_edge.source==source),initial_value/count).otherwise(df_edge.pageRank))\n",
    "    return df_edge"
   ]
  },
  {
   "cell_type": "code",
   "execution_count": 52,
   "metadata": {},
   "outputs": [],
   "source": [
    "df_mapper=mapper(df_edge)"
   ]
  },
  {
   "cell_type": "code",
   "execution_count": 56,
   "metadata": {},
   "outputs": [
    {
     "name": "stdout",
     "output_type": "stream",
     "text": [
      "+------+------+--------------------+--------------------+\n",
      "|target|source|        initialValue|            pageRank|\n",
      "+------+------+--------------------+--------------------+\n",
      "|  3102|   401|1.242390359050813...|3.300718275905456...|\n",
      "|  7244|   401|1.242390359050813...|3.300718275905456...|\n",
      "|  3676|   401|1.242390359050813...|3.300718275905456...|\n",
      "|  6501|   401|1.242390359050813...|3.300718275905456...|\n",
      "|    37|   401|1.242390359050813...|3.300718275905456...|\n",
      "|  3574|   401|1.242390359050813...|3.300718275905456...|\n",
      "|   492|   401|1.242390359050813...|3.300718275905456...|\n",
      "|  6978|   401|1.242390359050813...|3.300718275905456...|\n",
      "|  5956|   401|1.242390359050813...|3.300718275905456...|\n",
      "|  2168|   401|1.242390359050813...|3.300718275905456...|\n",
      "|   477|   401|1.242390359050813...|3.300718275905456...|\n",
      "|    64|   401|1.242390359050813...|3.300718275905456...|\n",
      "|  4934|   401|1.242390359050813...|3.300718275905456...|\n",
      "|  4415|   401|1.242390359050813...|3.300718275905456...|\n",
      "|  6517|   401|1.242390359050813...|3.300718275905456...|\n",
      "|  2982|   401|1.242390359050813...|3.300718275905456...|\n",
      "|  2632|   401|1.242390359050813...|3.300718275905456...|\n",
      "|  6847|   401|1.242390359050813...|3.300718275905456...|\n",
      "|  4745|   401|1.242390359050813...|3.300718275905456...|\n",
      "|  7946|   401|1.242390359050813...|3.300718275905456...|\n",
      "+------+------+--------------------+--------------------+\n",
      "only showing top 20 rows\n",
      "\n"
     ]
    }
   ],
   "source": [
    "df_mapper.filter((df_mapper.source=='401')).show()"
   ]
  },
  {
   "cell_type": "code",
   "execution_count": 31,
   "metadata": {},
   "outputs": [],
   "source": [
    "test=df_edge.filter(((df_edge.source == '1241')|(df_edge.source == '1514')))"
   ]
  },
  {
   "cell_type": "code",
   "execution_count": 32,
   "metadata": {},
   "outputs": [],
   "source": [
    "test=test.sort(col(\"source\"))"
   ]
  },
  {
   "cell_type": "code",
   "execution_count": 33,
   "metadata": {},
   "outputs": [
    {
     "data": {
      "text/plain": [
       "[Row(target='6780', source='1241', initialValue=0.00012423903590508137),\n",
       " Row(target='4595', source='1241', initialValue=0.00012423903590508137),\n",
       " Row(target='7512', source='1241', initialValue=0.00012423903590508137),\n",
       " Row(target='1552', source='1514', initialValue=0.00012423903590508137),\n",
       " Row(target='2206', source='1514', initialValue=0.00012423903590508137),\n",
       " Row(target='3536', source='1514', initialValue=0.00012423903590508137),\n",
       " Row(target='808', source='1514', initialValue=0.00012423903590508137),\n",
       " Row(target='6572', source='1514', initialValue=0.00012423903590508137),\n",
       " Row(target='2336', source='1514', initialValue=0.00012423903590508137),\n",
       " Row(target='4137', source='1514', initialValue=0.00012423903590508137)]"
      ]
     },
     "execution_count": 33,
     "metadata": {},
     "output_type": "execute_result"
    }
   ],
   "source": [
    "test.take(10)"
   ]
  },
  {
   "cell_type": "code",
   "execution_count": 34,
   "metadata": {},
   "outputs": [
    {
     "data": {
      "text/plain": [
       "71"
      ]
     },
     "execution_count": 34,
     "metadata": {},
     "output_type": "execute_result"
    }
   ],
   "source": [
    "test.count()"
   ]
  },
  {
   "cell_type": "code",
   "execution_count": 35,
   "metadata": {},
   "outputs": [
    {
     "data": {
      "text/plain": [
       "Row(target='4595', source='1241', initialValue=0.00012423903590508137)"
      ]
     },
     "execution_count": 35,
     "metadata": {},
     "output_type": "execute_result"
    }
   ],
   "source": [
    "test.first()"
   ]
  },
  {
   "cell_type": "code",
   "execution_count": 36,
   "metadata": {},
   "outputs": [],
   "source": [
    "test_source=test.select(\"source\").distinct().rdd.flatMap(lambda x: x).collect()"
   ]
  },
  {
   "cell_type": "code",
   "execution_count": 37,
   "metadata": {},
   "outputs": [
    {
     "data": {
      "text/plain": [
       "['1241', '1514']"
      ]
     },
     "execution_count": 37,
     "metadata": {},
     "output_type": "execute_result"
    }
   ],
   "source": [
    "test_source"
   ]
  },
  {
   "cell_type": "code",
   "execution_count": 38,
   "metadata": {},
   "outputs": [],
   "source": [
    "test=test.withColumn(\"pageRank\",lit(0))"
   ]
  },
  {
   "cell_type": "code",
   "execution_count": 39,
   "metadata": {},
   "outputs": [],
   "source": [
    "for source in test_source:\n",
    "    count=test.filter((test.source==source)).count()\n",
    "    test = test.withColumn(\"pageRank\", when((test.source==source),initial_value/count).otherwise(test.pageRank))"
   ]
  },
  {
   "cell_type": "code",
   "execution_count": 40,
   "metadata": {},
   "outputs": [
    {
     "data": {
      "text/plain": [
       "[Row(target='6780', source='1241', initialValue=0.00012423903590508137, pageRank=4.141301196836046e-05),\n",
       " Row(target='4595', source='1241', initialValue=0.00012423903590508137, pageRank=4.141301196836046e-05),\n",
       " Row(target='7512', source='1241', initialValue=0.00012423903590508137, pageRank=4.141301196836046e-05),\n",
       " Row(target='3153', source='1514', initialValue=0.00012423903590508137, pageRank=1.8270446456629614e-06),\n",
       " Row(target='6813', source='1514', initialValue=0.00012423903590508137, pageRank=1.8270446456629614e-06),\n",
       " Row(target='3536', source='1514', initialValue=0.00012423903590508137, pageRank=1.8270446456629614e-06),\n",
       " Row(target='2879', source='1514', initialValue=0.00012423903590508137, pageRank=1.8270446456629614e-06),\n",
       " Row(target='5772', source='1514', initialValue=0.00012423903590508137, pageRank=1.8270446456629614e-06),\n",
       " Row(target='195', source='1514', initialValue=0.00012423903590508137, pageRank=1.8270446456629614e-06),\n",
       " Row(target='2032', source='1514', initialValue=0.00012423903590508137, pageRank=1.8270446456629614e-06)]"
      ]
     },
     "execution_count": 40,
     "metadata": {},
     "output_type": "execute_result"
    }
   ],
   "source": [
    "test.take(10)"
   ]
  },
  {
   "cell_type": "code",
   "execution_count": 41,
   "metadata": {},
   "outputs": [],
   "source": [
    "test=test.sort(col(\"target\"))"
   ]
  },
  {
   "cell_type": "code",
   "execution_count": 42,
   "metadata": {},
   "outputs": [
    {
     "data": {
      "text/plain": [
       "[Row(target='1018', source='1514', initialValue=0.00012423903590508137, pageRank=1.8270446456629614e-06),\n",
       " Row(target='1019', source='1514', initialValue=0.00012423903590508137, pageRank=1.8270446456629614e-06),\n",
       " Row(target='1148', source='1514', initialValue=0.00012423903590508137, pageRank=1.8270446456629614e-06),\n",
       " Row(target='122', source='1514', initialValue=0.00012423903590508137, pageRank=1.8270446456629614e-06),\n",
       " Row(target='1514', source='1514', initialValue=0.00012423903590508137, pageRank=1.8270446456629614e-06),\n",
       " Row(target='1552', source='1514', initialValue=0.00012423903590508137, pageRank=1.8270446456629614e-06),\n",
       " Row(target='1657', source='1514', initialValue=0.00012423903590508137, pageRank=1.8270446456629614e-06),\n",
       " Row(target='1758', source='1514', initialValue=0.00012423903590508137, pageRank=1.8270446456629614e-06),\n",
       " Row(target='195', source='1514', initialValue=0.00012423903590508137, pageRank=1.8270446456629614e-06),\n",
       " Row(target='2024', source='1514', initialValue=0.00012423903590508137, pageRank=1.8270446456629614e-06),\n",
       " Row(target='2032', source='1514', initialValue=0.00012423903590508137, pageRank=1.8270446456629614e-06),\n",
       " Row(target='2116', source='1514', initialValue=0.00012423903590508137, pageRank=1.8270446456629614e-06),\n",
       " Row(target='2206', source='1514', initialValue=0.00012423903590508137, pageRank=1.8270446456629614e-06),\n",
       " Row(target='2336', source='1514', initialValue=0.00012423903590508137, pageRank=1.8270446456629614e-06),\n",
       " Row(target='2619', source='1514', initialValue=0.00012423903590508137, pageRank=1.8270446456629614e-06),\n",
       " Row(target='2706', source='1514', initialValue=0.00012423903590508137, pageRank=1.8270446456629614e-06),\n",
       " Row(target='2794', source='1514', initialValue=0.00012423903590508137, pageRank=1.8270446456629614e-06),\n",
       " Row(target='2879', source='1514', initialValue=0.00012423903590508137, pageRank=1.8270446456629614e-06),\n",
       " Row(target='3111', source='1514', initialValue=0.00012423903590508137, pageRank=1.8270446456629614e-06),\n",
       " Row(target='3153', source='1514', initialValue=0.00012423903590508137, pageRank=1.8270446456629614e-06),\n",
       " Row(target='3254', source='1514', initialValue=0.00012423903590508137, pageRank=1.8270446456629614e-06),\n",
       " Row(target='351', source='1514', initialValue=0.00012423903590508137, pageRank=1.8270446456629614e-06),\n",
       " Row(target='3536', source='1514', initialValue=0.00012423903590508137, pageRank=1.8270446456629614e-06),\n",
       " Row(target='3585', source='1514', initialValue=0.00012423903590508137, pageRank=1.8270446456629614e-06),\n",
       " Row(target='3812', source='1514', initialValue=0.00012423903590508137, pageRank=1.8270446456629614e-06),\n",
       " Row(target='4029', source='1514', initialValue=0.00012423903590508137, pageRank=1.8270446456629614e-06),\n",
       " Row(target='4030', source='1514', initialValue=0.00012423903590508137, pageRank=1.8270446456629614e-06),\n",
       " Row(target='4063', source='1514', initialValue=0.00012423903590508137, pageRank=1.8270446456629614e-06),\n",
       " Row(target='4118', source='1514', initialValue=0.00012423903590508137, pageRank=1.8270446456629614e-06),\n",
       " Row(target='4137', source='1514', initialValue=0.00012423903590508137, pageRank=1.8270446456629614e-06),\n",
       " Row(target='4195', source='1514', initialValue=0.00012423903590508137, pageRank=1.8270446456629614e-06),\n",
       " Row(target='4276', source='1514', initialValue=0.00012423903590508137, pageRank=1.8270446456629614e-06),\n",
       " Row(target='4344', source='1514', initialValue=0.00012423903590508137, pageRank=1.8270446456629614e-06),\n",
       " Row(target='4426', source='1514', initialValue=0.00012423903590508137, pageRank=1.8270446456629614e-06),\n",
       " Row(target='453', source='1514', initialValue=0.00012423903590508137, pageRank=1.8270446456629614e-06),\n",
       " Row(target='4595', source='1241', initialValue=0.00012423903590508137, pageRank=4.141301196836046e-05),\n",
       " Row(target='475', source='1514', initialValue=0.00012423903590508137, pageRank=1.8270446456629614e-06),\n",
       " Row(target='5175', source='1514', initialValue=0.00012423903590508137, pageRank=1.8270446456629614e-06),\n",
       " Row(target='5179', source='1514', initialValue=0.00012423903590508137, pageRank=1.8270446456629614e-06),\n",
       " Row(target='5180', source='1514', initialValue=0.00012423903590508137, pageRank=1.8270446456629614e-06),\n",
       " Row(target='5299', source='1514', initialValue=0.00012423903590508137, pageRank=1.8270446456629614e-06),\n",
       " Row(target='5329', source='1514', initialValue=0.00012423903590508137, pageRank=1.8270446456629614e-06),\n",
       " Row(target='5471', source='1514', initialValue=0.00012423903590508137, pageRank=1.8270446456629614e-06),\n",
       " Row(target='553', source='1514', initialValue=0.00012423903590508137, pageRank=1.8270446456629614e-06),\n",
       " Row(target='5586', source='1514', initialValue=0.00012423903590508137, pageRank=1.8270446456629614e-06),\n",
       " Row(target='5587', source='1514', initialValue=0.00012423903590508137, pageRank=1.8270446456629614e-06),\n",
       " Row(target='5669', source='1514', initialValue=0.00012423903590508137, pageRank=1.8270446456629614e-06),\n",
       " Row(target='5731', source='1514', initialValue=0.00012423903590508137, pageRank=1.8270446456629614e-06),\n",
       " Row(target='5772', source='1514', initialValue=0.00012423903590508137, pageRank=1.8270446456629614e-06),\n",
       " Row(target='5894', source='1514', initialValue=0.00012423903590508137, pageRank=1.8270446456629614e-06)]"
      ]
     },
     "execution_count": 42,
     "metadata": {},
     "output_type": "execute_result"
    }
   ],
   "source": [
    "test.take(50)"
   ]
  },
  {
   "cell_type": "code",
   "execution_count": 43,
   "metadata": {},
   "outputs": [
    {
     "data": {
      "text/plain": [
       "71"
      ]
     },
     "execution_count": 43,
     "metadata": {},
     "output_type": "execute_result"
    }
   ],
   "source": [
    "test.distinct().count()"
   ]
  },
  {
   "cell_type": "code",
   "execution_count": null,
   "metadata": {},
   "outputs": [],
   "source": []
  },
  {
   "cell_type": "code",
   "execution_count": null,
   "metadata": {},
   "outputs": [],
   "source": []
  },
  {
   "cell_type": "code",
   "execution_count": null,
   "metadata": {},
   "outputs": [],
   "source": []
  },
  {
   "cell_type": "code",
   "execution_count": null,
   "metadata": {},
   "outputs": [],
   "source": [
    "spark.stop()"
   ]
  }
 ],
 "metadata": {
  "kernelspec": {
   "display_name": "Python 3",
   "language": "python",
   "name": "python3"
  },
  "language_info": {
   "codemirror_mode": {
    "name": "ipython",
    "version": 3
   },
   "file_extension": ".py",
   "mimetype": "text/x-python",
   "name": "python",
   "nbconvert_exporter": "python",
   "pygments_lexer": "ipython3",
   "version": "3.7.6"
  }
 },
 "nbformat": 4,
 "nbformat_minor": 4
}
