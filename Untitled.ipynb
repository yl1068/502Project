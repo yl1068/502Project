{
 "cells": [
  {
   "cell_type": "code",
   "execution_count": 2,
   "metadata": {},
   "outputs": [],
   "source": [
    "import findspark\n",
    "findspark.init()\n",
    "from pyspark.sql import SparkSession\n",
    "spark = SparkSession.builder.appName(\"lab-ml\").getOrCreate()\n"
   ]
  },
  {
   "cell_type": "code",
   "execution_count": 3,
   "metadata": {},
   "outputs": [
    {
     "data": {
      "text/html": [
       "\n",
       "            <div>\n",
       "                <p><b>SparkSession - in-memory</b></p>\n",
       "                \n",
       "        <div>\n",
       "            <p><b>SparkContext</b></p>\n",
       "\n",
       "            <p><a href=\"http://ip-172-31-74-130.ec2.internal:4040\">Spark UI</a></p>\n",
       "\n",
       "            <dl>\n",
       "              <dt>Version</dt>\n",
       "                <dd><code>v2.4.4</code></dd>\n",
       "              <dt>Master</dt>\n",
       "                <dd><code>yarn</code></dd>\n",
       "              <dt>AppName</dt>\n",
       "                <dd><code>lab-ml</code></dd>\n",
       "            </dl>\n",
       "        </div>\n",
       "        \n",
       "            </div>\n",
       "        "
      ],
      "text/plain": [
       "<pyspark.sql.session.SparkSession at 0x7f2ae47de1d0>"
      ]
     },
     "execution_count": 3,
     "metadata": {},
     "output_type": "execute_result"
    }
   ],
   "source": [
    "spark"
   ]
  },
  {
   "cell_type": "code",
   "execution_count": 10,
   "metadata": {},
   "outputs": [],
   "source": [
    "df = spark.read.parquet(\"s3://aws-logs-780494741284-us-east-1/dataset/project_graph_data\")"
   ]
  },
  {
   "cell_type": "code",
   "execution_count": 21,
   "metadata": {},
   "outputs": [
    {
     "data": {
      "text/plain": [
       "[Row(source='http//0.ssbet138.cn/WWW.XPJ80886.COM/', target='/WWW.HB6611.COM/'),\n",
       " Row(source='http//0.ssbet138.cn/WWW.XPJ80886.COM/', target='/WWW.SX1822.COM/'),\n",
       " Row(source='http//0.ssbet138.cn/WWW.XPJ80886.COM/', target='/WWW.DK8883.COM/'),\n",
       " Row(source='http//0.ssbet138.cn/WWW.XPJ80886.COM/', target='/WWW.287720.COM/'),\n",
       " Row(source='http//0.ssbet138.cn/WWW.XPJ80886.COM/', target='/WWW.MG8541.COM/'),\n",
       " Row(source='http//0.ssbet138.cn/WWW.XPJ80886.COM/', target='/WWW.1382121.COM/'),\n",
       " Row(source='http//0.ssbet138.cn/WWW.XPJ80886.COM/', target='/WWW.3615005.COM/'),\n",
       " Row(source='http//0.ssbet138.cn/WWW.XPJ80886.COM/', target='/WWW.7760.NET/'),\n",
       " Row(source='http//0.ssbet138.cn/WWW.XPJ80886.COM/', target='/WWW.HG123777.COM/'),\n",
       " Row(source='http//0.ssbet138.cn/WWW.XPJ80886.COM/', target='/WWW.CP85555.COM/')]"
      ]
     },
     "execution_count": 21,
     "metadata": {},
     "output_type": "execute_result"
    }
   ],
   "source": [
    "df.take(10)"
   ]
  },
  {
   "cell_type": "code",
   "execution_count": 17,
   "metadata": {},
   "outputs": [
    {
     "data": {
      "text/plain": [
       "27208"
      ]
     },
     "execution_count": 17,
     "metadata": {},
     "output_type": "execute_result"
    }
   ],
   "source": [
    "df.count()"
   ]
  },
  {
   "cell_type": "code",
   "execution_count": 13,
   "metadata": {},
   "outputs": [],
   "source": [
    "df_node = spark.read.parquet(\"s3://aws-logs-780494741284-us-east-1/dataset/graph_node\")"
   ]
  },
  {
   "cell_type": "code",
   "execution_count": 22,
   "metadata": {},
   "outputs": [
    {
     "data": {
      "text/plain": [
       "[Row(urls='/WWW.HG86225.COM/', label=13448),\n",
       " Row(urls='/WWW.HG86225.COM/', label=13448),\n",
       " Row(urls='/WWW.563567.COM/', label=13449),\n",
       " Row(urls='/WWW.563567.COM/', label=13449),\n",
       " Row(urls='/WWW.6456WW.COM/', label=13450),\n",
       " Row(urls='/WWW.6456WW.COM/', label=13450),\n",
       " Row(urls='/WWW.6456WW.COM/', label=13450),\n",
       " Row(urls='/WWW.6456WW.COM/', label=13450),\n",
       " Row(urls='/WWW.345497.COM/', label=13451),\n",
       " Row(urls='/WWW.345497.COM/', label=13451)]"
      ]
     },
     "execution_count": 22,
     "metadata": {},
     "output_type": "execute_result"
    }
   ],
   "source": [
    "df_node.take(10)"
   ]
  },
  {
   "cell_type": "code",
   "execution_count": 18,
   "metadata": {},
   "outputs": [
    {
     "data": {
      "text/plain": [
       "54416"
      ]
     },
     "execution_count": 18,
     "metadata": {},
     "output_type": "execute_result"
    }
   ],
   "source": [
    "df_node.count()"
   ]
  },
  {
   "cell_type": "code",
   "execution_count": 15,
   "metadata": {},
   "outputs": [],
   "source": [
    "df_edge = spark.read.parquet(\"s3://aws-logs-780494741284-us-east-1/dataset/graph_edges\")"
   ]
  },
  {
   "cell_type": "code",
   "execution_count": 20,
   "metadata": {},
   "outputs": [
    {
     "data": {
      "text/plain": [
       "[Row(source='97', target='1029'),\n",
       " Row(source='97', target='3194'),\n",
       " Row(source='97', target='11110'),\n",
       " Row(source='97', target='2936'),\n",
       " Row(source='97', target='2114'),\n",
       " Row(source='97', target='3461'),\n",
       " Row(source='97', target='12032'),\n",
       " Row(source='97', target='8226'),\n",
       " Row(source='97', target='5395'),\n",
       " Row(source='97', target='14011'),\n",
       " Row(source='97', target='578'),\n",
       " Row(source='97', target='9487'),\n",
       " Row(source='97', target='7482'),\n",
       " Row(source='97', target='3369'),\n",
       " Row(source='97', target='14504'),\n",
       " Row(source='97', target='924'),\n",
       " Row(source='97', target='13535'),\n",
       " Row(source='97', target='5710'),\n",
       " Row(source='97', target='9571'),\n",
       " Row(source='97', target='1446')]"
      ]
     },
     "execution_count": 20,
     "metadata": {},
     "output_type": "execute_result"
    }
   ],
   "source": [
    "df_edge.take(20)"
   ]
  },
  {
   "cell_type": "code",
   "execution_count": 19,
   "metadata": {},
   "outputs": [
    {
     "data": {
      "text/plain": [
       "27208"
      ]
     },
     "execution_count": 19,
     "metadata": {},
     "output_type": "execute_result"
    }
   ],
   "source": [
    "df_edge.count()"
   ]
  },
  {
   "cell_type": "code",
   "execution_count": null,
   "metadata": {},
   "outputs": [],
   "source": []
  },
  {
   "cell_type": "code",
   "execution_count": null,
   "metadata": {},
   "outputs": [],
   "source": []
  },
  {
   "cell_type": "code",
   "execution_count": null,
   "metadata": {},
   "outputs": [],
   "source": []
  },
  {
   "cell_type": "code",
   "execution_count": null,
   "metadata": {},
   "outputs": [],
   "source": []
  },
  {
   "cell_type": "code",
   "execution_count": null,
   "metadata": {},
   "outputs": [],
   "source": []
  }
 ],
 "metadata": {
  "kernelspec": {
   "display_name": "Python 3",
   "language": "python",
   "name": "python3"
  },
  "language_info": {
   "codemirror_mode": {
    "name": "ipython",
    "version": 3
   },
   "file_extension": ".py",
   "mimetype": "text/x-python",
   "name": "python",
   "nbconvert_exporter": "python",
   "pygments_lexer": "ipython3",
   "version": "3.7.6"
  }
 },
 "nbformat": 4,
 "nbformat_minor": 4
}
