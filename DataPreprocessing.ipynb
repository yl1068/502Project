{
 "cells": [
  {
   "cell_type": "code",
   "execution_count": 1,
   "metadata": {},
   "outputs": [],
   "source": [
    "import findspark\n",
    "findspark.init()\n",
    "from pyspark.sql import SparkSession\n",
    "spark = SparkSession.builder.appName(\"lab-ml\").getOrCreate()"
   ]
  },
  {
   "cell_type": "code",
   "execution_count": 2,
   "metadata": {},
   "outputs": [
    {
     "data": {
      "text/html": [
       "\n",
       "            <div>\n",
       "                <p><b>SparkSession - in-memory</b></p>\n",
       "                \n",
       "        <div>\n",
       "            <p><b>SparkContext</b></p>\n",
       "\n",
       "            <p><a href=\"http://ip-172-31-80-68.ec2.internal:4040\">Spark UI</a></p>\n",
       "\n",
       "            <dl>\n",
       "              <dt>Version</dt>\n",
       "                <dd><code>v2.4.4</code></dd>\n",
       "              <dt>Master</dt>\n",
       "                <dd><code>yarn</code></dd>\n",
       "              <dt>AppName</dt>\n",
       "                <dd><code>lab-ml</code></dd>\n",
       "            </dl>\n",
       "        </div>\n",
       "        \n",
       "            </div>\n",
       "        "
      ],
      "text/plain": [
       "<pyspark.sql.session.SparkSession at 0x7ff5d016c4d0>"
      ]
     },
     "execution_count": 2,
     "metadata": {},
     "output_type": "execute_result"
    }
   ],
   "source": [
    "spark"
   ]
  },
  {
   "cell_type": "raw",
   "metadata": {},
   "source": [
    "3.\ts3://commoncrawl/cc-index/table/cc-main/warc/crawl=CC-MAIN-2020-16/subset=warc/part-00299-5e0433ee-fa15-4837-b2dc-d6f38301af97.c000.gz.parquet"
   ]
  },
  {
   "cell_type": "code",
   "execution_count": 3,
   "metadata": {},
   "outputs": [],
   "source": [
    "df = spark.read.parquet(\"s3://commoncrawl/cc-index/table/cc-main/warc/crawl=CC-MAIN-2020-16/subset=warc/part-00299-5e0433ee-fa15-4837-b2dc-d6f38301af97.c000.gz.parquet\")"
   ]
  },
  {
   "cell_type": "code",
   "execution_count": 4,
   "metadata": {},
   "outputs": [],
   "source": [
    "df.createOrReplaceTempView(\"df\")"
   ]
  },
  {
   "cell_type": "code",
   "execution_count": 5,
   "metadata": {},
   "outputs": [
    {
     "name": "stdout",
     "output_type": "stream",
     "text": [
      "root\n",
      " |-- url_surtkey: string (nullable = true)\n",
      " |-- url: string (nullable = true)\n",
      " |-- url_host_name: string (nullable = true)\n",
      " |-- url_host_tld: string (nullable = true)\n",
      " |-- url_host_2nd_last_part: string (nullable = true)\n",
      " |-- url_host_3rd_last_part: string (nullable = true)\n",
      " |-- url_host_4th_last_part: string (nullable = true)\n",
      " |-- url_host_5th_last_part: string (nullable = true)\n",
      " |-- url_host_registry_suffix: string (nullable = true)\n",
      " |-- url_host_registered_domain: string (nullable = true)\n",
      " |-- url_host_private_suffix: string (nullable = true)\n",
      " |-- url_host_private_domain: string (nullable = true)\n",
      " |-- url_protocol: string (nullable = true)\n",
      " |-- url_port: integer (nullable = true)\n",
      " |-- url_path: string (nullable = true)\n",
      " |-- url_query: string (nullable = true)\n",
      " |-- fetch_time: timestamp (nullable = true)\n",
      " |-- fetch_status: short (nullable = true)\n",
      " |-- fetch_redirect: string (nullable = true)\n",
      " |-- content_digest: string (nullable = true)\n",
      " |-- content_mime_type: string (nullable = true)\n",
      " |-- content_mime_detected: string (nullable = true)\n",
      " |-- content_charset: string (nullable = true)\n",
      " |-- content_languages: string (nullable = true)\n",
      " |-- content_truncated: string (nullable = true)\n",
      " |-- warc_filename: string (nullable = true)\n",
      " |-- warc_record_offset: integer (nullable = true)\n",
      " |-- warc_record_length: integer (nullable = true)\n",
      " |-- warc_segment: string (nullable = true)\n",
      "\n"
     ]
    }
   ],
   "source": [
    "df.printSchema()"
   ]
  },
  {
   "cell_type": "code",
   "execution_count": 60,
   "metadata": {},
   "outputs": [],
   "source": [
    "#df.take(2)"
   ]
  },
  {
   "cell_type": "code",
   "execution_count": 8,
   "metadata": {},
   "outputs": [
    {
     "data": {
      "text/plain": [
       "[Row(url_surtkey='xyz,imagetube,wikibig)/article/200/sila-voli-chto-za-frukt-.html', url='http://wikibig.imagetube.xyz/article/200/sila-voli-chto-za-frukt-.html', url_host_name='wikibig.imagetube.xyz', url_host_tld='xyz', url_host_2nd_last_part='imagetube', url_host_3rd_last_part='wikibig', url_host_4th_last_part=None, url_host_5th_last_part=None, url_host_registry_suffix='xyz', url_host_registered_domain='imagetube.xyz', url_host_private_suffix='xyz', url_host_private_domain='imagetube.xyz', url_protocol='http', url_port=None, url_path='/article/200/sila-voli-chto-za-frukt-.html', url_query=None, fetch_time=datetime.datetime(2020, 4, 10, 6, 10, 57), fetch_status=200, fetch_redirect=None, content_digest='DUD6SFKT27VJA5XHI4DGOYEHIYCU4Z34', content_mime_type='text/html', content_mime_detected='application/xhtml+xml', content_charset='UTF-8', content_languages='rus', content_truncated=None, warc_filename='crawl-data/CC-MAIN-2020-16/segments/1585371886991.92/warc/CC-MAIN-20200410043735-20200410074235-00342.warc.gz', warc_record_offset=175524937, warc_record_length=12733, warc_segment='1585371886991.92')]"
      ]
     },
     "execution_count": 8,
     "metadata": {},
     "output_type": "execute_result"
    }
   ],
   "source": [
    "df.take(1)"
   ]
  },
  {
   "cell_type": "code",
   "execution_count": 3,
   "metadata": {},
   "outputs": [],
   "source": [
    "spark.stop()"
   ]
  },
  {
   "cell_type": "code",
   "execution_count": 4,
   "metadata": {},
   "outputs": [],
   "source": [
    "from pyspark import SparkContext\n",
    "from pyspark import SparkConf"
   ]
  },
  {
   "cell_type": "code",
   "execution_count": 5,
   "metadata": {},
   "outputs": [],
   "source": [
    "conf = SparkConf().setAppName(\"read text file in pyspark\")\n",
    "sc = SparkContext(conf=conf)"
   ]
  },
  {
   "cell_type": "code",
   "execution_count": 6,
   "metadata": {},
   "outputs": [
    {
     "data": {
      "text/html": [
       "\n",
       "        <div>\n",
       "            <p><b>SparkContext</b></p>\n",
       "\n",
       "            <p><a href=\"http://ip-172-31-80-68.ec2.internal:4040\">Spark UI</a></p>\n",
       "\n",
       "            <dl>\n",
       "              <dt>Version</dt>\n",
       "                <dd><code>v2.4.4</code></dd>\n",
       "              <dt>Master</dt>\n",
       "                <dd><code>yarn</code></dd>\n",
       "              <dt>AppName</dt>\n",
       "                <dd><code>read text file in pyspark</code></dd>\n",
       "            </dl>\n",
       "        </div>\n",
       "        "
      ],
      "text/plain": [
       "<SparkContext master=yarn appName=read text file in pyspark>"
      ]
     },
     "execution_count": 6,
     "metadata": {},
     "output_type": "execute_result"
    }
   ],
   "source": [
    "sc"
   ]
  },
  {
   "cell_type": "code",
   "execution_count": 13,
   "metadata": {},
   "outputs": [],
   "source": [
    "df2 = sc.textFile('s3://commoncrawl/crawl-data/CC-MAIN-2020-10/segments/1581875143455.25/wat/CC-MAIN-20200217235417-20200218025417-00559.warc.wat.gz')\n",
    "\n"
   ]
  },
  {
   "cell_type": "code",
   "execution_count": 14,
   "metadata": {},
   "outputs": [
    {
     "data": {
      "text/plain": [
       "1613992"
      ]
     },
     "execution_count": 14,
     "metadata": {},
     "output_type": "execute_result"
    }
   ],
   "source": [
    "df2.count()"
   ]
  },
  {
   "cell_type": "code",
   "execution_count": 11,
   "metadata": {},
   "outputs": [
    {
     "data": {
      "text/plain": [
       "['WARC/1.0']"
      ]
     },
     "execution_count": 11,
     "metadata": {},
     "output_type": "execute_result"
    }
   ],
   "source": [
    "df2.take(1)"
   ]
  },
  {
   "cell_type": "code",
   "execution_count": 14,
   "metadata": {},
   "outputs": [],
   "source": [
    "links_json = df2.take(49)[48]"
   ]
  },
  {
   "cell_type": "code",
   "execution_count": 59,
   "metadata": {},
   "outputs": [
    {
     "data": {
      "text/plain": [
       "'{\"Container\":{\"Filename\":\"CC-MAIN-20200217235417-20200218025417-00559.warc.gz\",\"Compressed\":true,\"Offset\":\"911\",\"Gzip-Metadata\":{\"Deflate-Length\":\"54836\",\"Header-Length\":\"10\",\"Footer-Length\":\"8\",\"Inflated-CRC\":\"766414629\",\"Inflated-Length\":\"613965\"}},\"Envelope\":{\"Payload-Metadata\":{\"Actual-Content-T'"
      ]
     },
     "execution_count": 59,
     "metadata": {},
     "output_type": "execute_result"
    }
   ],
   "source": [
    "links_json[:300]"
   ]
  },
  {
   "cell_type": "code",
   "execution_count": 27,
   "metadata": {},
   "outputs": [
    {
     "data": {
      "text/plain": [
       "str"
      ]
     },
     "execution_count": 27,
     "metadata": {},
     "output_type": "execute_result"
    }
   ],
   "source": [
    "type(links_json)"
   ]
  },
  {
   "cell_type": "code",
   "execution_count": 28,
   "metadata": {},
   "outputs": [],
   "source": [
    "import json"
   ]
  },
  {
   "cell_type": "code",
   "execution_count": 29,
   "metadata": {},
   "outputs": [],
   "source": [
    "json_obj = json.loads(links_json)"
   ]
  },
  {
   "cell_type": "code",
   "execution_count": 34,
   "metadata": {},
   "outputs": [],
   "source": [
    "links_container = json_obj['Envelope']['Payload-Metadata']['HTTP-Response-Metadata']['HTML-Metadata']['Links']"
   ]
  },
  {
   "cell_type": "code",
   "execution_count": 36,
   "metadata": {},
   "outputs": [],
   "source": [
    "links_obj = [x['url'] for x in links_container]"
   ]
  },
  {
   "cell_type": "code",
   "execution_count": 38,
   "metadata": {},
   "outputs": [
    {
     "data": {
      "text/plain": [
       "['/moban/ip138/logo.png',\n",
       " 'http://0.ssbet138.cn/',\n",
       " 'javascript:;',\n",
       " 'http://5iqai.ssbet138.cn/',\n",
       " 'http://zikba.ssbet138.cn/']"
      ]
     },
     "execution_count": 38,
     "metadata": {},
     "output_type": "execute_result"
    }
   ],
   "source": [
    "links_obj[:5]"
   ]
  },
  {
   "cell_type": "code",
   "execution_count": 54,
   "metadata": {},
   "outputs": [
    {
     "data": {
      "text/plain": [
       "[{'path': 'IMG@/src', 'url': '/moban/ip138/logo.png', 'alt': '查询网'},\n",
       " {'path': 'A@/href', 'url': 'http://0.ssbet138.cn/'},\n",
       " {'path': 'A@/href', 'url': 'javascript:;', 'rel': 'nofollow'}]"
      ]
     },
     "execution_count": 54,
     "metadata": {},
     "output_type": "execute_result"
    }
   ],
   "source": [
    "json_obj['Envelope']['Payload-Metadata']['HTTP-Response-Metadata']['HTML-Metadata']['Links'][:3]"
   ]
  },
  {
   "cell_type": "code",
   "execution_count": 41,
   "metadata": {},
   "outputs": [
    {
     "data": {
      "text/plain": [
       "'WARC-Target-URI: http://0.ssbet138.cn/WWW.XPJ80886.COM/'"
      ]
     },
     "execution_count": 41,
     "metadata": {},
     "output_type": "execute_result"
    }
   ],
   "source": [
    "# take target url\n",
    "df2.take(31)[30]"
   ]
  },
  {
   "cell_type": "code",
   "execution_count": 46,
   "metadata": {},
   "outputs": [],
   "source": [
    "target_url_str = df2.take(31)[30]"
   ]
  },
  {
   "cell_type": "code",
   "execution_count": 47,
   "metadata": {},
   "outputs": [],
   "source": [
    "target_url = target_url_str.split(':')[1:]"
   ]
  },
  {
   "cell_type": "code",
   "execution_count": 51,
   "metadata": {},
   "outputs": [],
   "source": [
    "target = ''\n",
    "for x in target_url:\n",
    "    target += x\n",
    "    "
   ]
  },
  {
   "cell_type": "code",
   "execution_count": 53,
   "metadata": {},
   "outputs": [
    {
     "data": {
      "text/plain": [
       "'http//0.ssbet138.cn/WWW.XPJ80886.COM/'"
      ]
     },
     "execution_count": 53,
     "metadata": {},
     "output_type": "execute_result"
    }
   ],
   "source": [
    "target.strip()"
   ]
  },
  {
   "cell_type": "markdown",
   "metadata": {},
   "source": [
    "## Second Dataset"
   ]
  },
  {
   "cell_type": "code",
   "execution_count": null,
   "metadata": {},
   "outputs": [],
   "source": [
    "#s3://commoncrawl/crawl-data/CC-MAIN-2020-10/segments/1581875143455.25/wat/CC-MAIN-20200217235417-20200218025417-00543.warc.wat.gz"
   ]
  },
  {
   "cell_type": "code",
   "execution_count": 15,
   "metadata": {},
   "outputs": [],
   "source": [
    "df3 = sc.textFile('s3://commoncrawl/crawl-data/CC-MAIN-2020-10/segments/1581875143455.25/wat/CC-MAIN-20200217235417-20200218025417-00543.warc.wat.gz')\n"
   ]
  },
  {
   "cell_type": "code",
   "execution_count": 16,
   "metadata": {},
   "outputs": [
    {
     "data": {
      "text/plain": [
       "1589704"
      ]
     },
     "execution_count": 16,
     "metadata": {},
     "output_type": "execute_result"
    }
   ],
   "source": [
    "df3.count()"
   ]
  },
  {
   "cell_type": "code",
   "execution_count": 64,
   "metadata": {},
   "outputs": [],
   "source": [
    "links_json2 = df3.take(49)[48]\n",
    "json_obj2 = json.loads(links_json2)\n",
    "links_container2 = json_obj2['Envelope']['Payload-Metadata']['HTTP-Response-Metadata']['HTML-Metadata']['Links']"
   ]
  },
  {
   "cell_type": "code",
   "execution_count": 65,
   "metadata": {},
   "outputs": [
    {
     "data": {
      "text/plain": [
       "['/moban/ip138/logo.png',\n",
       " 'http://0.ssbet138.cn/',\n",
       " 'javascript:;',\n",
       " 'http://5iqai.ssbet138.cn/',\n",
       " 'http://zikba.ssbet138.cn/']"
      ]
     },
     "execution_count": 65,
     "metadata": {},
     "output_type": "execute_result"
    }
   ],
   "source": [
    "links_obj = [x['url'] for x in links_container]\n",
    "links_obj[:5]"
   ]
  },
  {
   "cell_type": "code",
   "execution_count": 66,
   "metadata": {},
   "outputs": [
    {
     "data": {
      "text/plain": [
       "'http//0.ssbet138.cn/WWW.XPJ80886.COM/'"
      ]
     },
     "execution_count": 66,
     "metadata": {},
     "output_type": "execute_result"
    }
   ],
   "source": [
    "target_url_str = df2.take(31)[30]\n",
    "target_url = target_url_str.split(':')[1:]\n",
    "target = ''\n",
    "for x in target_url:\n",
    "    target += x\n",
    "target = target.strip()\n",
    "target"
   ]
  },
  {
   "cell_type": "code",
   "execution_count": 74,
   "metadata": {},
   "outputs": [],
   "source": [
    "from pyspark.sql.types import StructType\n",
    "import pyspark\n",
    "from pyspark.sql.types import StructField\n",
    "\n",
    "from pyspark.sql.types import StringType\n",
    "from pyspark.sql.types import IntegerType\n"
   ]
  },
  {
   "cell_type": "code",
   "execution_count": 81,
   "metadata": {},
   "outputs": [],
   "source": [
    "sources = [target for _ in range(len(links_obj))]\n",
    "schema = StructType([StructField(\"source\", StringType(), True), StructField(\"target\", StringType(), True)])"
   ]
  },
  {
   "cell_type": "code",
   "execution_count": 82,
   "metadata": {},
   "outputs": [],
   "source": [
    "from pyspark.sql import SQLContext\n",
    "sqlContext = SQLContext(sc)"
   ]
  },
  {
   "cell_type": "code",
   "execution_count": 83,
   "metadata": {},
   "outputs": [],
   "source": [
    "t = zip(sources, links_obj)\n",
    "dataframe = sqlContext.createDataFrame(t,schema)"
   ]
  },
  {
   "cell_type": "code",
   "execution_count": 89,
   "metadata": {},
   "outputs": [
    {
     "data": {
      "text/plain": [
       "[Row(source=' http//0.ssbet138.cn/WWW.XPJ80886.COM/', target='/moban/ip138/logo.png'),\n",
       " Row(source=' http//0.ssbet138.cn/WWW.XPJ80886.COM/', target='http://0.ssbet138.cn/'),\n",
       " Row(source=' http//0.ssbet138.cn/WWW.XPJ80886.COM/', target='javascript:;'),\n",
       " Row(source=' http//0.ssbet138.cn/WWW.XPJ80886.COM/', target='http://5iqai.ssbet138.cn/'),\n",
       " Row(source=' http//0.ssbet138.cn/WWW.XPJ80886.COM/', target='http://zikba.ssbet138.cn/')]"
      ]
     },
     "execution_count": 89,
     "metadata": {},
     "output_type": "execute_result"
    }
   ],
   "source": [
    "dataframe.take(5)"
   ]
  },
  {
   "cell_type": "code",
   "execution_count": 88,
   "metadata": {},
   "outputs": [
    {
     "name": "stdout",
     "output_type": "stream",
     "text": [
      "+--------------------+--------------------+\n",
      "|              source|              target|\n",
      "+--------------------+--------------------+\n",
      "| http//0.ssbet138...|/moban/ip138/logo...|\n",
      "| http//0.ssbet138...|http://0.ssbet138...|\n",
      "| http//0.ssbet138...|        javascript:;|\n",
      "| http//0.ssbet138...|http://5iqai.ssbe...|\n",
      "| http//0.ssbet138...|http://zikba.ssbe...|\n",
      "+--------------------+--------------------+\n",
      "only showing top 5 rows\n",
      "\n"
     ]
    }
   ],
   "source": [
    "dataframe.show(5)"
   ]
  },
  {
   "cell_type": "markdown",
   "metadata": {},
   "source": [
    "## URL Parsal Function"
   ]
  },
  {
   "cell_type": "code",
   "execution_count": 52,
   "metadata": {},
   "outputs": [],
   "source": [
    "from pyspark.sql.types import StructType\n",
    "import pyspark\n",
    "from pyspark.sql.types import StructField\n",
    "\n",
    "from pyspark.sql.types import StringType\n",
    "from pyspark.sql.types import IntegerType\n",
    "from pyspark.sql import SQLContext\n",
    "import json\n",
    "sqlContext = SQLContext(sc)"
   ]
  },
  {
   "cell_type": "code",
   "execution_count": 53,
   "metadata": {},
   "outputs": [
    {
     "data": {
      "text/plain": [
       "DataFrame[source: string, target: string]"
      ]
     },
     "execution_count": 53,
     "metadata": {},
     "output_type": "execute_result"
    }
   ],
   "source": [
    "schema = StructType([StructField(\"source\", StringType(), True), StructField(\"target\", StringType(), True)])\n",
    "res = sqlContext.createDataFrame([], schema)\n",
    "res "
   ]
  },
  {
   "cell_type": "code",
   "execution_count": 54,
   "metadata": {},
   "outputs": [],
   "source": [
    "paths = []\n",
    "for i in range(60):\n",
    "    if i < 10:\n",
    "        path = path = 's3://commoncrawl/crawl-data/CC-MAIN-2020-10/segments/1581875143455.25/wat/CC-MAIN-20200217235417-20200218025417-0050' + str(i) +'.warc.wat.gz'\n",
    "    else:\n",
    "        path = 's3://commoncrawl/crawl-data/CC-MAIN-2020-10/segments/1581875143455.25/wat/CC-MAIN-20200217235417-20200218025417-005' + str(i) +'.warc.wat.gz'\n",
    "    paths.append(path)\n",
    "    \n",
    "\n",
    "                "
   ]
  },
  {
   "cell_type": "code",
   "execution_count": 55,
   "metadata": {},
   "outputs": [],
   "source": [
    "#paths = ['s3://commoncrawl/crawl-data/CC-MAIN-2020-10/segments/1581875143455.25/wat/CC-MAIN-20200217235417-20200218025417-0054' + str(1) +'.warc.wat.gz']"
   ]
  },
  {
   "cell_type": "code",
   "execution_count": 56,
   "metadata": {},
   "outputs": [
    {
     "name": "stdout",
     "output_type": "stream",
     "text": [
      "0\n",
      "1\n",
      "2\n",
      "3\n",
      "4\n",
      "5\n",
      "6\n",
      "7\n",
      "8\n",
      "9\n",
      "10\n",
      "11\n",
      "12\n",
      "13\n",
      "14\n",
      "under current15error\n",
      "16\n",
      "17\n",
      "18\n",
      "19\n",
      "20\n",
      "under current21error\n",
      "22\n",
      "23\n",
      "24\n",
      "25\n",
      "26\n",
      "27\n",
      "28\n",
      "under current29error\n",
      "30\n",
      "under current31error\n",
      "32\n",
      "33\n",
      "under current34error\n",
      "35\n",
      "36\n",
      "37\n",
      "38\n",
      "39\n",
      "under current40error\n",
      "41\n",
      "42\n",
      "43\n",
      "44\n",
      "under current45error\n",
      "under current46error\n",
      "47\n",
      "48\n",
      "under current49error\n",
      "under current50error\n",
      "51\n",
      "52\n",
      "53\n",
      "54\n",
      "55\n",
      "56\n",
      "57\n",
      "58\n",
      "59\n"
     ]
    }
   ],
   "source": [
    "for i, path in enumerate(paths):\n",
    "    df = sc.textFile(path)\n",
    "    try:\n",
    "        links_json = df.take(49)[48]\n",
    "        json_obj = json.loads(links_json)\n",
    "        links_container = json_obj['Envelope']['Payload-Metadata']['HTTP-Response-Metadata']['HTML-Metadata']['Links']\n",
    "        links_obj = [x['url'] for x in links_container]\n",
    "    \n",
    "        # target \n",
    "        target_url_str = df2.take(31)[30]\n",
    "        target_url = target_url_str.split(':')[1:]\n",
    "        target = ''\n",
    "        for x in target_url:\n",
    "            target += x\n",
    "        target = target.strip()\n",
    "    \n",
    "        # df\n",
    "        sources = [target for _ in range(len(links_obj))]\n",
    "        schema = StructType([StructField(\"source\", StringType(), True), StructField(\"target\", StringType(), True)])\n",
    "    \n",
    "        t = zip(sources, links_obj)\n",
    "        dataframe = sqlContext.createDataFrame(t,schema)\n",
    "        #dataframe.show(5)\n",
    "        res = res.unionByName(dataframe)\n",
    "        print(i)\n",
    "    except:\n",
    "        print('under current' + str(i) + 'error')\n",
    "        \n",
    "    \n",
    "    \n",
    "    \n",
    "    "
   ]
  },
  {
   "cell_type": "code",
   "execution_count": 58,
   "metadata": {},
   "outputs": [
    {
     "data": {
      "text/plain": [
       "20760"
      ]
     },
     "execution_count": 58,
     "metadata": {},
     "output_type": "execute_result"
    }
   ],
   "source": [
    "#res = res.unionByName(dataframe)\n",
    "res.count()"
   ]
  },
  {
   "cell_type": "code",
   "execution_count": 59,
   "metadata": {},
   "outputs": [
    {
     "data": {
      "text/plain": [
       "[Row(source='http//0.ssbet138.cn/WWW.XPJ80886.COM/', target='http://auto.sohu.com'),\n",
       " Row(source='http//0.ssbet138.cn/WWW.XPJ80886.COM/', target='/d/index?cityCode=530100'),\n",
       " Row(source='http//0.ssbet138.cn/WWW.XPJ80886.COM/', target='#'),\n",
       " Row(source='http//0.ssbet138.cn/WWW.XPJ80886.COM/', target='//m3.auto.itc.cn/car/theme/leasing2c/images/ad_top-9ffca05.jpg'),\n",
       " Row(source='http//0.ssbet138.cn/WWW.XPJ80886.COM/', target='/d/index?cityCode=530100')]"
      ]
     },
     "execution_count": 59,
     "metadata": {},
     "output_type": "execute_result"
    }
   ],
   "source": [
    "res.take(5)"
   ]
  },
  {
   "cell_type": "code",
   "execution_count": 61,
   "metadata": {},
   "outputs": [
    {
     "name": "stdout",
     "output_type": "stream",
     "text": [
      "+--------------------+--------------------+\n",
      "|              source|              target|\n",
      "+--------------------+--------------------+\n",
      "|http//0.ssbet138....|http://auto.sohu.com|\n",
      "|http//0.ssbet138....|/d/index?cityCode...|\n",
      "|http//0.ssbet138....|                   #|\n",
      "|http//0.ssbet138....|//m3.auto.itc.cn/...|\n",
      "|http//0.ssbet138....|/d/index?cityCode...|\n",
      "+--------------------+--------------------+\n",
      "only showing top 5 rows\n",
      "\n"
     ]
    }
   ],
   "source": [
    "res.show(5)"
   ]
  },
  {
   "cell_type": "code",
   "execution_count": 63,
   "metadata": {},
   "outputs": [],
   "source": [
    "res2 = res"
   ]
  },
  {
   "cell_type": "code",
   "execution_count": 64,
   "metadata": {},
   "outputs": [],
   "source": [
    "paths = []\n",
    "for i in range(100):\n",
    "    if i < 10:\n",
    "        path = path = 's3://commoncrawl/crawl-data/CC-MAIN-2020-10/segments/1581875143455.25/wat/CC-MAIN-20200217235417-20200218025417-0040' + str(i) +'.warc.wat.gz'\n",
    "    else:\n",
    "        path = 's3://commoncrawl/crawl-data/CC-MAIN-2020-10/segments/1581875143455.25/wat/CC-MAIN-20200217235417-20200218025417-004' + str(i) +'.warc.wat.gz'\n",
    "    paths.append(path)\n",
    "    "
   ]
  },
  {
   "cell_type": "code",
   "execution_count": 65,
   "metadata": {},
   "outputs": [
    {
     "name": "stdout",
     "output_type": "stream",
     "text": [
      "0\n",
      "1\n",
      "2\n",
      "3\n",
      "under current4error\n",
      "5\n",
      "under current6error\n",
      "7\n",
      "8\n",
      "under current9error\n",
      "10\n",
      "under current11error\n",
      "12\n",
      "13\n",
      "14\n",
      "under current15error\n",
      "16\n",
      "17\n",
      "18\n",
      "under current19error\n",
      "20\n",
      "under current21error\n",
      "22\n",
      "23\n",
      "24\n",
      "under current25error\n",
      "26\n",
      "27\n",
      "28\n",
      "29\n",
      "30\n",
      "31\n",
      "32\n",
      "under current33error\n",
      "34\n",
      "35\n",
      "under current36error\n",
      "37\n",
      "38\n",
      "39\n",
      "40\n",
      "under current41error\n",
      "42\n",
      "43\n",
      "44\n",
      "45\n",
      "under current46error\n",
      "47\n",
      "48\n",
      "under current49error\n",
      "50\n",
      "51\n",
      "52\n",
      "53\n",
      "54\n",
      "55\n",
      "56\n",
      "57\n",
      "58\n",
      "59\n",
      "60\n",
      "61\n",
      "62\n",
      "63\n",
      "under current64error\n",
      "65\n",
      "under current66error\n",
      "67\n",
      "under current68error\n",
      "69\n",
      "70\n",
      "71\n",
      "under current72error\n",
      "under current73error\n",
      "74\n",
      "75\n",
      "76\n",
      "under current77error\n",
      "78\n",
      "79\n",
      "under current80error\n",
      "81\n",
      "under current82error\n",
      "under current83error\n",
      "84\n",
      "under current85error\n",
      "86\n",
      "87\n",
      "88\n",
      "89\n",
      "under current90error\n",
      "91\n",
      "under current92error\n",
      "93\n",
      "94\n",
      "95\n",
      "under current96error\n",
      "97\n",
      "98\n",
      "under current99error\n"
     ]
    }
   ],
   "source": [
    "for i, path in enumerate(paths):\n",
    "    df = sc.textFile(path)\n",
    "    try:\n",
    "        links_json = df.take(49)[48]\n",
    "        json_obj = json.loads(links_json)\n",
    "        links_container = json_obj['Envelope']['Payload-Metadata']['HTTP-Response-Metadata']['HTML-Metadata']['Links']\n",
    "        links_obj = [x['url'] for x in links_container]\n",
    "    \n",
    "        # target \n",
    "        target_url_str = df2.take(31)[30]\n",
    "        target_url = target_url_str.split(':')[1:]\n",
    "        target = ''\n",
    "        for x in target_url:\n",
    "            target += x\n",
    "        target = target.strip()\n",
    "    \n",
    "        # df\n",
    "        sources = [target for _ in range(len(links_obj))]\n",
    "        schema = StructType([StructField(\"source\", StringType(), True), StructField(\"target\", StringType(), True)])\n",
    "    \n",
    "        t = zip(sources, links_obj)\n",
    "        dataframe = sqlContext.createDataFrame(t,schema)\n",
    "        #dataframe.show(5)\n",
    "        res2 = res2.unionByName(dataframe)\n",
    "        print(i)\n",
    "    except:\n",
    "        print('under current' + str(i) + 'error')\n",
    "        \n",
    "    \n",
    "    "
   ]
  },
  {
   "cell_type": "code",
   "execution_count": 66,
   "metadata": {},
   "outputs": [
    {
     "data": {
      "text/plain": [
       "27208"
      ]
     },
     "execution_count": 66,
     "metadata": {},
     "output_type": "execute_result"
    }
   ],
   "source": [
    "res2.count()\n"
   ]
  },
  {
   "cell_type": "code",
   "execution_count": null,
   "metadata": {},
   "outputs": [],
   "source": [
    "res2.write.parquet(\"s3://aws-logs-780494741284-us-east-1/dataset/project_graph_data\",mode=\"overwrite\")"
   ]
  },
  {
   "cell_type": "code",
   "execution_count": null,
   "metadata": {},
   "outputs": [],
   "source": []
  }
 ],
 "metadata": {
  "kernelspec": {
   "display_name": "Python 3",
   "language": "python",
   "name": "python3"
  },
  "language_info": {
   "codemirror_mode": {
    "name": "ipython",
    "version": 3
   },
   "file_extension": ".py",
   "mimetype": "text/x-python",
   "name": "python",
   "nbconvert_exporter": "python",
   "pygments_lexer": "ipython3",
   "version": "3.7.3"
  }
 },
 "nbformat": 4,
 "nbformat_minor": 4
}
