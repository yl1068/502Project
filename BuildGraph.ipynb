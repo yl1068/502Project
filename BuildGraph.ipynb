{
 "cells": [
  {
   "cell_type": "code",
   "execution_count": 1,
   "metadata": {},
   "outputs": [
    {
     "data": {
      "text/html": [
       "\n",
       "            <div>\n",
       "                <p><b>SparkSession - in-memory</b></p>\n",
       "                \n",
       "        <div>\n",
       "            <p><b>SparkContext</b></p>\n",
       "\n",
       "            <p><a href=\"http://ip-172-31-92-249.ec2.internal:4040\">Spark UI</a></p>\n",
       "\n",
       "            <dl>\n",
       "              <dt>Version</dt>\n",
       "                <dd><code>v2.4.4</code></dd>\n",
       "              <dt>Master</dt>\n",
       "                <dd><code>yarn</code></dd>\n",
       "              <dt>AppName</dt>\n",
       "                <dd><code>lab-ml</code></dd>\n",
       "            </dl>\n",
       "        </div>\n",
       "        \n",
       "            </div>\n",
       "        "
      ],
      "text/plain": [
       "<pyspark.sql.session.SparkSession at 0x7f31f43d6550>"
      ]
     },
     "execution_count": 1,
     "metadata": {},
     "output_type": "execute_result"
    }
   ],
   "source": [
    "import findspark\n",
    "findspark.init()\n",
    "from pyspark.sql import SparkSession\n",
    "spark = SparkSession.builder.appName(\"lab-ml\").getOrCreate()\n",
    "spark"
   ]
  },
  {
   "cell_type": "code",
   "execution_count": 3,
   "metadata": {},
   "outputs": [],
   "source": [
    "\n",
    "df = spark.read.parquet(\"s3://aws-logs-780494741284-us-east-1/dataset/project_graph_data\")"
   ]
  },
  {
   "cell_type": "code",
   "execution_count": 4,
   "metadata": {},
   "outputs": [
    {
     "name": "stdout",
     "output_type": "stream",
     "text": [
      "root\n",
      " |-- source: string (nullable = true)\n",
      " |-- target: string (nullable = true)\n",
      "\n"
     ]
    }
   ],
   "source": [
    "df.createOrReplaceTempView(\"df\")\n",
    "df.printSchema()"
   ]
  },
  {
   "cell_type": "code",
   "execution_count": 5,
   "metadata": {},
   "outputs": [
    {
     "data": {
      "text/plain": [
       "[Row(source='http//0.ssbet138.cn/WWW.XPJ80886.COM/', target='/WWW.HB6611.COM/'),\n",
       " Row(source='http//0.ssbet138.cn/WWW.XPJ80886.COM/', target='/WWW.SX1822.COM/'),\n",
       " Row(source='http//0.ssbet138.cn/WWW.XPJ80886.COM/', target='/WWW.DK8883.COM/'),\n",
       " Row(source='http//0.ssbet138.cn/WWW.XPJ80886.COM/', target='/WWW.287720.COM/'),\n",
       " Row(source='http//0.ssbet138.cn/WWW.XPJ80886.COM/', target='/WWW.MG8541.COM/')]"
      ]
     },
     "execution_count": 5,
     "metadata": {},
     "output_type": "execute_result"
    }
   ],
   "source": [
    "df.take(5)"
   ]
  },
  {
   "cell_type": "markdown",
   "metadata": {},
   "source": [
    "# Combine all urls together"
   ]
  },
  {
   "cell_type": "code",
   "execution_count": 9,
   "metadata": {},
   "outputs": [],
   "source": [
    "df1 = df.select(['target'])\n",
    "df2 = df.select(['source'])\n",
    "\n"
   ]
  },
  {
   "cell_type": "code",
   "execution_count": 10,
   "metadata": {},
   "outputs": [
    {
     "name": "stdout",
     "output_type": "stream",
     "text": [
      "+-------------------+\n",
      "|               urls|\n",
      "+-------------------+\n",
      "|   /WWW.HB6611.COM/|\n",
      "|   /WWW.SX1822.COM/|\n",
      "|   /WWW.DK8883.COM/|\n",
      "|   /WWW.287720.COM/|\n",
      "|   /WWW.MG8541.COM/|\n",
      "|  /WWW.1382121.COM/|\n",
      "|  /WWW.3615005.COM/|\n",
      "|     /WWW.7760.NET/|\n",
      "| /WWW.HG123777.COM/|\n",
      "|  /WWW.CP85555.COM/|\n",
      "|    /WWW.99662.COM/|\n",
      "| /WWW.13300007.COM/|\n",
      "|/WWW.XPJ005005.COM/|\n",
      "|    /WWW.GWSSC.COM/|\n",
      "|  /WWW.BMW6609.COM/|\n",
      "|  /WWW.WXC7779.COM/|\n",
      "|    /WWW.CR949.COM/|\n",
      "|  /WWW.8899480.COM/|\n",
      "|   /WWW.142VNS.COM/|\n",
      "|  /WWW.DGD0000.COM/|\n",
      "+-------------------+\n",
      "only showing top 20 rows\n",
      "\n",
      "root\n",
      " |-- urls: string (nullable = true)\n",
      "\n"
     ]
    }
   ],
   "source": [
    "df1 = df1.selectExpr(\"target as urls\")\n",
    "df1.show()\n",
    "df1.printSchema()"
   ]
  },
  {
   "cell_type": "code",
   "execution_count": 11,
   "metadata": {},
   "outputs": [
    {
     "name": "stdout",
     "output_type": "stream",
     "text": [
      "+--------------------+\n",
      "|                urls|\n",
      "+--------------------+\n",
      "|http//0.ssbet138....|\n",
      "|http//0.ssbet138....|\n",
      "|http//0.ssbet138....|\n",
      "|http//0.ssbet138....|\n",
      "|http//0.ssbet138....|\n",
      "|http//0.ssbet138....|\n",
      "|http//0.ssbet138....|\n",
      "|http//0.ssbet138....|\n",
      "|http//0.ssbet138....|\n",
      "|http//0.ssbet138....|\n",
      "|http//0.ssbet138....|\n",
      "|http//0.ssbet138....|\n",
      "|http//0.ssbet138....|\n",
      "|http//0.ssbet138....|\n",
      "|http//0.ssbet138....|\n",
      "|http//0.ssbet138....|\n",
      "|http//0.ssbet138....|\n",
      "|http//0.ssbet138....|\n",
      "|http//0.ssbet138....|\n",
      "|http//0.ssbet138....|\n",
      "+--------------------+\n",
      "only showing top 20 rows\n",
      "\n",
      "root\n",
      " |-- urls: string (nullable = true)\n",
      "\n"
     ]
    }
   ],
   "source": [
    "df2 = df2.selectExpr(\"source as urls\")\n",
    "df2.show()\n",
    "df2.printSchema()"
   ]
  },
  {
   "cell_type": "code",
   "execution_count": 34,
   "metadata": {},
   "outputs": [
    {
     "name": "stdout",
     "output_type": "stream",
     "text": [
      "root\n",
      " |-- urls: string (nullable = true)\n",
      "\n"
     ]
    }
   ],
   "source": [
    "df_c = df1.unionByName(df2)\n",
    "df_c.printSchema()"
   ]
  },
  {
   "cell_type": "code",
   "execution_count": 37,
   "metadata": {},
   "outputs": [],
   "source": [
    "from operator import itemgetter\n",
    "\n",
    "indexer = (df_c.select(\"urls\").distinct()\n",
    "    .rdd.map(itemgetter(0)).zipWithIndex()\n",
    "    .toDF([\"urls\", \"label\"]))\n",
    "\n",
    "df_c = df_c.join(indexer, [\"urls\"])"
   ]
  },
  {
   "cell_type": "code",
   "execution_count": 38,
   "metadata": {},
   "outputs": [
    {
     "name": "stdout",
     "output_type": "stream",
     "text": [
      "+-----------------+-----+\n",
      "|             urls|label|\n",
      "+-----------------+-----+\n",
      "| /WWW.MG3446.COM/|    0|\n",
      "| /WWW.MG3446.COM/|    0|\n",
      "|/WWW.BET5571.COM/|    1|\n",
      "+-----------------+-----+\n",
      "only showing top 3 rows\n",
      "\n"
     ]
    }
   ],
   "source": [
    "df_c.show(3)"
   ]
  },
  {
   "cell_type": "code",
   "execution_count": 39,
   "metadata": {},
   "outputs": [],
   "source": [
    "dic = dict(df_c.rdd.map(lambda x: (x['urls'], x['label'])).collect())"
   ]
  },
  {
   "cell_type": "code",
   "execution_count": 40,
   "metadata": {},
   "outputs": [
    {
     "data": {
      "text/plain": [
       "97"
      ]
     },
     "execution_count": 40,
     "metadata": {},
     "output_type": "execute_result"
    }
   ],
   "source": [
    "dic.get('http//0.ssbet138.cn/WWW.XPJ80886.COM/')"
   ]
  },
  {
   "cell_type": "code",
   "execution_count": 43,
   "metadata": {},
   "outputs": [],
   "source": [
    "from pyspark.sql.functions import udf\n",
    "def url_node(s):\n",
    "    node = dic.get(s)\n",
    "    return node\n",
    "\n",
    "ur_udf = udf(url_node)"
   ]
  },
  {
   "cell_type": "code",
   "execution_count": 51,
   "metadata": {},
   "outputs": [],
   "source": [
    "df_graph = df"
   ]
  },
  {
   "cell_type": "code",
   "execution_count": 52,
   "metadata": {},
   "outputs": [],
   "source": [
    "#df1_graph = df1.map(url_node)\n",
    "df_graph_new = df_graph.withColumn(\"source\", ur_udf('source'))\n"
   ]
  },
  {
   "cell_type": "code",
   "execution_count": 53,
   "metadata": {},
   "outputs": [],
   "source": [
    "df_graph_new = df_graph_new.withColumn(\"target\", ur_udf('target'))"
   ]
  },
  {
   "cell_type": "code",
   "execution_count": 54,
   "metadata": {},
   "outputs": [
    {
     "data": {
      "text/plain": [
       "[Row(source='97', target='1029'),\n",
       " Row(source='97', target='3194'),\n",
       " Row(source='97', target='11110'),\n",
       " Row(source='97', target='2936'),\n",
       " Row(source='97', target='2114')]"
      ]
     },
     "execution_count": 54,
     "metadata": {},
     "output_type": "execute_result"
    }
   ],
   "source": [
    "df_graph_new.take(5)"
   ]
  },
  {
   "cell_type": "code",
   "execution_count": 55,
   "metadata": {},
   "outputs": [
    {
     "data": {
      "text/plain": [
       "27208"
      ]
     },
     "execution_count": 55,
     "metadata": {},
     "output_type": "execute_result"
    }
   ],
   "source": [
    "df_graph_new.count()"
   ]
  },
  {
   "cell_type": "code",
   "execution_count": 56,
   "metadata": {},
   "outputs": [],
   "source": [
    "df_c.write.parquet(\"s3://aws-logs-780494741284-us-east-1/dataset/graph_node\",mode=\"overwrite\")"
   ]
  },
  {
   "cell_type": "code",
   "execution_count": null,
   "metadata": {},
   "outputs": [],
   "source": [
    "df_graph_new.write.parquet(\"s3://aws-logs-780494741284-us-east-1/dataset/graph_edges\",mode=\"overwrite\")"
   ]
  },
  {
   "cell_type": "code",
   "execution_count": null,
   "metadata": {},
   "outputs": [],
   "source": []
  }
 ],
 "metadata": {
  "kernelspec": {
   "display_name": "Python 3",
   "language": "python",
   "name": "python3"
  },
  "language_info": {
   "codemirror_mode": {
    "name": "ipython",
    "version": 3
   },
   "file_extension": ".py",
   "mimetype": "text/x-python",
   "name": "python",
   "nbconvert_exporter": "python",
   "pygments_lexer": "ipython3",
   "version": "3.7.3"
  }
 },
 "nbformat": 4,
 "nbformat_minor": 4
}
